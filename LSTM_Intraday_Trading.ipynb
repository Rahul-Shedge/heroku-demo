{
  "nbformat": 4,
  "nbformat_minor": 0,
  "metadata": {
    "kernelspec": {
      "display_name": "Python 3",
      "language": "python",
      "name": "python3"
    },
    "language_info": {
      "codemirror_mode": {
        "name": "ipython",
        "version": 3
      },
      "file_extension": ".py",
      "mimetype": "text/x-python",
      "name": "python",
      "nbconvert_exporter": "python",
      "pygments_lexer": "ipython3",
      "version": "3.8.5"
    },
    "colab": {
      "name": "LSTM Intraday Trading.ipynb",
      "provenance": [],
      "include_colab_link": true
    },
    "accelerator": "GPU"
  },
  "cells": [
    {
      "cell_type": "markdown",
      "metadata": {
        "id": "view-in-github",
        "colab_type": "text"
      },
      "source": [
        "<a href=\"https://colab.research.google.com/github/shanthosh-SP/heroku-demo/blob/main/LSTM_Intraday_Trading.ipynb\" target=\"_parent\"><img src=\"https://colab.research.google.com/assets/colab-badge.svg\" alt=\"Open In Colab\"/></a>"
      ]
    },
    {
      "cell_type": "markdown",
      "metadata": {
        "id": "dXpyLJHwL9nJ"
      },
      "source": [
        "## LSTM For Historical Dataset, Chosing Targeting value as Augumented Feature Exponential  Moving Average "
      ]
    },
    {
      "cell_type": "code",
      "metadata": {
        "colab": {
          "base_uri": "https://localhost:8080/"
        },
        "id": "rPtKUqLHOE5V",
        "outputId": "108fa7a2-e779-4781-ca5c-f033f908723e"
      },
      "source": [
        "%tensorflow_version 2.x\n",
        "import tensorflow as tf\n",
        "device_name = tf.test.gpu_device_name()\n",
        "if device_name != '/device:GPU:0':\n",
        "  raise SystemError('GPU device not found')\n",
        "print('Found GPU at: {}'.format(device_name))"
      ],
      "execution_count": 1,
      "outputs": [
        {
          "output_type": "stream",
          "text": [
            "Found GPU at: /device:GPU:0\n"
          ],
          "name": "stdout"
        }
      ]
    },
    {
      "cell_type": "code",
      "metadata": {
        "colab": {
          "base_uri": "https://localhost:8080/"
        },
        "id": "G6EjBgK1OEpD",
        "outputId": "a6933825-0c4f-4ca0-f9e0-eb50dc2e1f91"
      },
      "source": [
        "%tensorflow_version 2.x\n",
        "import tensorflow as tf\n",
        "import timeit\n",
        "\n",
        "device_name = tf.test.gpu_device_name()\n",
        "if device_name != '/device:GPU:0':\n",
        "  print(\n",
        "      '\\n\\nThis error most likely means that this notebook is not '\n",
        "      'configured to use a GPU.  Change this in Notebook Settings via the '\n",
        "      'command palette (cmd/ctrl-shift-P) or the Edit menu.\\n\\n')\n",
        "  raise SystemError('GPU device not found')\n",
        "\n",
        "def cpu():\n",
        "  with tf.device('/cpu:0'):\n",
        "    random_image_cpu = tf.random.normal((100, 100, 100, 3))\n",
        "    net_cpu = tf.keras.layers.Conv2D(32, 7)(random_image_cpu)\n",
        "    return tf.math.reduce_sum(net_cpu)\n",
        "\n",
        "def gpu():\n",
        "  with tf.device('/device:GPU:0'):\n",
        "    random_image_gpu = tf.random.normal((100, 100, 100, 3))\n",
        "    net_gpu = tf.keras.layers.Conv2D(32, 7)(random_image_gpu)\n",
        "    return tf.math.reduce_sum(net_gpu)\n",
        "  \n",
        "# We run each op once to warm up; see: https://stackoverflow.com/a/45067900\n",
        "cpu()\n",
        "gpu()\n",
        "\n",
        "# Run the op several times.\n",
        "print('Time (s) to convolve 32x7x7x3 filter over random 100x100x100x3 images '\n",
        "      '(batch x height x width x channel). Sum of ten runs.')\n",
        "print('CPU (s):')\n",
        "cpu_time = timeit.timeit('cpu()', number=10, setup=\"from __main__ import cpu\")\n",
        "print(cpu_time)\n",
        "print('GPU (s):')\n",
        "gpu_time = timeit.timeit('gpu()', number=10, setup=\"from __main__ import gpu\")\n",
        "print(gpu_time)\n",
        "print('GPU speedup over CPU: {}x'.format(int(cpu_time/gpu_time)))"
      ],
      "execution_count": 2,
      "outputs": [
        {
          "output_type": "stream",
          "text": [
            "Time (s) to convolve 32x7x7x3 filter over random 100x100x100x3 images (batch x height x width x channel). Sum of ten runs.\n",
            "CPU (s):\n",
            "3.80411008599998\n",
            "GPU (s):\n",
            "0.040417181999998775\n",
            "GPU speedup over CPU: 94x\n"
          ],
          "name": "stdout"
        }
      ]
    },
    {
      "cell_type": "code",
      "metadata": {
        "colab": {
          "base_uri": "https://localhost:8080/",
          "height": 201
        },
        "id": "bjIlVwVwL9nQ",
        "outputId": "b166ccc6-91b5-4ebd-ae5d-9b33212c5852"
      },
      "source": [
        "import pandas as pd\n",
        "df=pd.read_excel('/content/history.xlsx')\n",
        "df.head()"
      ],
      "execution_count": 5,
      "outputs": [
        {
          "output_type": "execute_result",
          "data": {
            "text/html": [
              "<div>\n",
              "<style scoped>\n",
              "    .dataframe tbody tr th:only-of-type {\n",
              "        vertical-align: middle;\n",
              "    }\n",
              "\n",
              "    .dataframe tbody tr th {\n",
              "        vertical-align: top;\n",
              "    }\n",
              "\n",
              "    .dataframe thead th {\n",
              "        text-align: right;\n",
              "    }\n",
              "</style>\n",
              "<table border=\"1\" class=\"dataframe\">\n",
              "  <thead>\n",
              "    <tr style=\"text-align: right;\">\n",
              "      <th></th>\n",
              "      <th>Date</th>\n",
              "      <th>Open</th>\n",
              "      <th>High</th>\n",
              "      <th>Low</th>\n",
              "      <th>Close</th>\n",
              "      <th>Adj Close</th>\n",
              "      <th>Volume</th>\n",
              "      <th>daily lag</th>\n",
              "      <th>Daily return</th>\n",
              "      <th>SMA(10 interval)</th>\n",
              "      <th>EMA</th>\n",
              "      <th>DailyVariationPercentage</th>\n",
              "      <th>Multiplyer</th>\n",
              "    </tr>\n",
              "  </thead>\n",
              "  <tbody>\n",
              "    <tr>\n",
              "      <th>0</th>\n",
              "      <td>1986-03-13</td>\n",
              "      <td>0.088542</td>\n",
              "      <td>0.101563</td>\n",
              "      <td>0.088542</td>\n",
              "      <td>0.097222</td>\n",
              "      <td>0.061751</td>\n",
              "      <td>1031788800</td>\n",
              "      <td>0.000000</td>\n",
              "      <td>0.000000</td>\n",
              "      <td>0.097222</td>\n",
              "      <td>0.097222</td>\n",
              "      <td>8.928021</td>\n",
              "      <td>NaN</td>\n",
              "    </tr>\n",
              "    <tr>\n",
              "      <th>1</th>\n",
              "      <td>1986-03-14</td>\n",
              "      <td>0.097222</td>\n",
              "      <td>0.102431</td>\n",
              "      <td>0.097222</td>\n",
              "      <td>0.100694</td>\n",
              "      <td>0.063956</td>\n",
              "      <td>308160000</td>\n",
              "      <td>0.097222</td>\n",
              "      <td>-0.034481</td>\n",
              "      <td>0.098958</td>\n",
              "      <td>0.097223</td>\n",
              "      <td>3.448071</td>\n",
              "      <td>0.000226</td>\n",
              "    </tr>\n",
              "    <tr>\n",
              "      <th>2</th>\n",
              "      <td>1986-03-17</td>\n",
              "      <td>0.100694</td>\n",
              "      <td>0.103299</td>\n",
              "      <td>0.100694</td>\n",
              "      <td>0.102431</td>\n",
              "      <td>0.065059</td>\n",
              "      <td>133171200</td>\n",
              "      <td>0.100694</td>\n",
              "      <td>-0.016958</td>\n",
              "      <td>0.100116</td>\n",
              "      <td>0.097224</td>\n",
              "      <td>1.695774</td>\n",
              "      <td>NaN</td>\n",
              "    </tr>\n",
              "    <tr>\n",
              "      <th>3</th>\n",
              "      <td>1986-03-18</td>\n",
              "      <td>0.102431</td>\n",
              "      <td>0.103299</td>\n",
              "      <td>0.098958</td>\n",
              "      <td>0.099826</td>\n",
              "      <td>0.063405</td>\n",
              "      <td>67766400</td>\n",
              "      <td>0.102431</td>\n",
              "      <td>0.026095</td>\n",
              "      <td>0.100043</td>\n",
              "      <td>0.097225</td>\n",
              "      <td>-2.609539</td>\n",
              "      <td>NaN</td>\n",
              "    </tr>\n",
              "    <tr>\n",
              "      <th>4</th>\n",
              "      <td>1986-03-19</td>\n",
              "      <td>0.099826</td>\n",
              "      <td>0.100694</td>\n",
              "      <td>0.097222</td>\n",
              "      <td>0.098090</td>\n",
              "      <td>0.062302</td>\n",
              "      <td>47894400</td>\n",
              "      <td>0.099826</td>\n",
              "      <td>0.017698</td>\n",
              "      <td>0.099653</td>\n",
              "      <td>0.097225</td>\n",
              "      <td>-1.769803</td>\n",
              "      <td>NaN</td>\n",
              "    </tr>\n",
              "  </tbody>\n",
              "</table>\n",
              "</div>"
            ],
            "text/plain": [
              "        Date      Open  ...  DailyVariationPercentage  Multiplyer\n",
              "0 1986-03-13  0.088542  ...                  8.928021         NaN\n",
              "1 1986-03-14  0.097222  ...                  3.448071    0.000226\n",
              "2 1986-03-17  0.100694  ...                  1.695774         NaN\n",
              "3 1986-03-18  0.102431  ...                 -2.609539         NaN\n",
              "4 1986-03-19  0.099826  ...                 -1.769803         NaN\n",
              "\n",
              "[5 rows x 13 columns]"
            ]
          },
          "metadata": {
            "tags": []
          },
          "execution_count": 5
        }
      ]
    },
    {
      "cell_type": "code",
      "metadata": {
        "colab": {
          "base_uri": "https://localhost:8080/",
          "height": 286
        },
        "id": "gkeK1m9dL9nT",
        "outputId": "ebd4622c-0bb9-4886-fc54-52e8045dcce9"
      },
      "source": [
        "##prediction on close\n",
        "df1=df.reset_index()['EMA']\n",
        "df1.shape\n",
        "\n",
        "import matplotlib.pyplot as plt\n",
        "plt.plot(df1)"
      ],
      "execution_count": 6,
      "outputs": [
        {
          "output_type": "execute_result",
          "data": {
            "text/plain": [
              "[<matplotlib.lines.Line2D at 0x7ff1d6aead10>]"
            ]
          },
          "metadata": {
            "tags": []
          },
          "execution_count": 6
        },
        {
          "output_type": "display_data",
          "data": {
            "image/png": "[encoded data removed]",
            "text/plain": [
              "<Figure size 432x288 with 1 Axes>"
            ]
          },
          "metadata": {
            "tags": [],
            "needs_background": "light"
          }
        }
      ]
    },
    {
      "cell_type": "code",
      "metadata": {
        "colab": {
          "base_uri": "https://localhost:8080/"
        },
        "id": "qsBp2FASL9nU",
        "outputId": "b1158f7c-9cd1-4021-d665-6269c88cc06b"
      },
      "source": [
        "import numpy as np\n",
        "from sklearn.preprocessing import MinMaxScaler\n",
        "scaler=MinMaxScaler(feature_range=(0,1))\n",
        "df1=scaler.fit_transform(np.array(df1).reshape(-1,1))\n",
        "\n",
        "df1.shape\n",
        "\n",
        "##Spliting train test split\n",
        "training_size=int(len(df1)*0.65)\n",
        "test_size=len(df1)-training_size\n",
        "train_data,test_data=df1[0:training_size,:],df1[training_size:len(df1),:1]\n",
        "print(training_size)\n",
        "print(test_size)\n",
        "print(df1.shape)"
      ],
      "execution_count": 7,
      "outputs": [
        {
          "output_type": "stream",
          "text": [
            "5757\n",
            "3100\n",
            "(8857, 1)\n"
          ],
          "name": "stdout"
        }
      ]
    },
    {
      "cell_type": "code",
      "metadata": {
        "colab": {
          "base_uri": "https://localhost:8080/"
        },
        "id": "xhXI3xSzL9nV",
        "outputId": "3b12aac1-fee1-4f57-acd1-70505f67ecc0"
      },
      "source": [
        "##convert an array of values into a dataset matrix\n",
        "import numpy\n",
        "def create_dataset(dataset,time_step=1):\n",
        "\tdataX,dataY=[],[]\n",
        "\tfor i in range(len(dataset)-time_step-1):\n",
        "\t\ta=dataset[i:(i+time_step),0]\n",
        "\t\tdataX.append(a)\n",
        "\t\tdataY.append(dataset[i+time_step,0])\n",
        "\treturn numpy.array(dataX),numpy.array(dataY)\n",
        "\n",
        "##reshape into X=t,t+1,t+2,t+3 and t+4\n",
        "time_step=100\n",
        "X_train,y_train=create_dataset(train_data,time_step)\n",
        "X_test,y_test=create_dataset(test_data,time_step)\n",
        " \n",
        "\n",
        "#reshape input to be [samples,time steps,features] which is required for LSTM\n",
        "X_train=X_train.reshape(X_train.shape[0],X_train.shape[1],1)\n",
        "X_test=X_test.reshape(X_test.shape[0],X_test.shape[1],1)\n",
        "\n",
        "##create the LSTM model\n",
        "from tensorflow.keras.models import Sequential\n",
        "from tensorflow.keras.layers import Dense\n",
        "from tensorflow.keras.layers import LSTM\n",
        "\n",
        "model=Sequential()\n",
        "model.add(LSTM(50,return_sequences=True,input_shape=(100,1)))\n",
        "model.add(LSTM(50,return_sequences=True))\n",
        "model.add(LSTM(50))\n",
        "model.add(Dense(1))\n",
        "model.compile(loss='mean_squared_error',optimizer='adam')\n",
        "\n",
        "model.summary()\n",
        "\n",
        "model.fit(X_train,y_train,validation_data=(X_test,y_test),epochs=100,batch_size=64,verbose=1)\n"
      ],
      "execution_count": 8,
      "outputs": [
        {
          "output_type": "stream",
          "text": [
            "Model: \"sequential\"\n",
            "_________________________________________________________________\n",
            "Layer (type)                 Output Shape              Param #   \n",
            "=================================================================\n",
            "lstm (LSTM)                  (None, 100, 50)           10400     \n",
            "_________________________________________________________________\n",
            "lstm_1 (LSTM)                (None, 100, 50)           20200     \n",
            "_________________________________________________________________\n",
            "lstm_2 (LSTM)                (None, 50)                20200     \n",
            "_________________________________________________________________\n",
            "dense (Dense)                (None, 1)                 51        \n",
            "=================================================================\n",
            "Total params: 50,851\n",
            "Trainable params: 50,851\n",
            "Non-trainable params: 0\n",
            "_________________________________________________________________\n",
            "Epoch 1/100\n",
            "89/89 [==============================] - 14s 93ms/step - loss: 9.5547e-04 - val_loss: 4.7836e-04\n",
            "Epoch 2/100\n",
            "89/89 [==============================] - 7s 80ms/step - loss: 1.0130e-06 - val_loss: 0.0016\n",
            "Epoch 3/100\n",
            "89/89 [==============================] - 7s 80ms/step - loss: 3.2532e-07 - val_loss: 0.0020\n",
            "Epoch 4/100\n",
            "89/89 [==============================] - 7s 80ms/step - loss: 2.9908e-07 - val_loss: 0.0021\n",
            "Epoch 5/100\n",
            "89/89 [==============================] - 7s 80ms/step - loss: 3.1178e-07 - val_loss: 0.0021\n",
            "Epoch 6/100\n",
            "89/89 [==============================] - 7s 81ms/step - loss: 2.9405e-07 - val_loss: 0.0021\n",
            "Epoch 7/100\n",
            "89/89 [==============================] - 7s 80ms/step - loss: 2.7897e-07 - val_loss: 0.0020\n",
            "Epoch 8/100\n",
            "89/89 [==============================] - 7s 80ms/step - loss: 2.9169e-07 - val_loss: 0.0020\n",
            "Epoch 9/100\n",
            "89/89 [==============================] - 7s 79ms/step - loss: 3.1657e-07 - val_loss: 0.0020\n",
            "Epoch 10/100\n",
            "89/89 [==============================] - 7s 81ms/step - loss: 3.0573e-07 - val_loss: 0.0020\n",
            "Epoch 11/100\n",
            "89/89 [==============================] - 7s 80ms/step - loss: 3.1156e-07 - val_loss: 0.0020\n",
            "Epoch 12/100\n",
            "89/89 [==============================] - 7s 80ms/step - loss: 3.0551e-07 - val_loss: 0.0019\n",
            "Epoch 13/100\n",
            "89/89 [==============================] - 7s 81ms/step - loss: 3.7914e-07 - val_loss: 0.0019\n",
            "Epoch 14/100\n",
            "89/89 [==============================] - 7s 80ms/step - loss: 2.7978e-07 - val_loss: 0.0019\n",
            "Epoch 15/100\n",
            "89/89 [==============================] - 7s 79ms/step - loss: 2.8214e-07 - val_loss: 0.0018\n",
            "Epoch 16/100\n",
            "89/89 [==============================] - 7s 79ms/step - loss: 3.4136e-07 - val_loss: 0.0018\n",
            "Epoch 17/100\n",
            "89/89 [==============================] - 7s 80ms/step - loss: 3.2840e-07 - val_loss: 0.0018\n",
            "Epoch 18/100\n",
            "89/89 [==============================] - 7s 79ms/step - loss: 3.7818e-07 - val_loss: 0.0019\n",
            "Epoch 19/100\n",
            "89/89 [==============================] - 7s 80ms/step - loss: 4.9095e-07 - val_loss: 0.0016\n",
            "Epoch 20/100\n",
            "89/89 [==============================] - 7s 80ms/step - loss: 3.6733e-07 - val_loss: 0.0017\n",
            "Epoch 21/100\n",
            "89/89 [==============================] - 7s 80ms/step - loss: 6.0509e-07 - val_loss: 0.0015\n",
            "Epoch 22/100\n",
            "89/89 [==============================] - 7s 79ms/step - loss: 3.8288e-07 - val_loss: 0.0015\n",
            "Epoch 23/100\n",
            "89/89 [==============================] - 7s 79ms/step - loss: 4.4210e-07 - val_loss: 0.0014\n",
            "Epoch 24/100\n",
            "89/89 [==============================] - 7s 80ms/step - loss: 1.2992e-06 - val_loss: 0.0016\n",
            "Epoch 25/100\n",
            "89/89 [==============================] - 7s 80ms/step - loss: 1.6658e-06 - val_loss: 0.0024\n",
            "Epoch 26/100\n",
            "89/89 [==============================] - 7s 80ms/step - loss: 2.2328e-06 - val_loss: 0.0015\n",
            "Epoch 27/100\n",
            "89/89 [==============================] - 7s 80ms/step - loss: 3.8750e-07 - val_loss: 0.0013\n",
            "Epoch 28/100\n",
            "89/89 [==============================] - 7s 80ms/step - loss: 8.2980e-07 - val_loss: 0.0017\n",
            "Epoch 29/100\n",
            "89/89 [==============================] - 7s 80ms/step - loss: 3.3850e-06 - val_loss: 0.0014\n",
            "Epoch 30/100\n",
            "89/89 [==============================] - 7s 80ms/step - loss: 4.4424e-07 - val_loss: 0.0013\n",
            "Epoch 31/100\n",
            "89/89 [==============================] - 7s 80ms/step - loss: 5.1993e-07 - val_loss: 0.0013\n",
            "Epoch 32/100\n",
            "89/89 [==============================] - 7s 80ms/step - loss: 3.7984e-07 - val_loss: 0.0013\n",
            "Epoch 33/100\n",
            "89/89 [==============================] - 7s 80ms/step - loss: 3.2936e-06 - val_loss: 0.0012\n",
            "Epoch 34/100\n",
            "89/89 [==============================] - 7s 81ms/step - loss: 3.6573e-06 - val_loss: 0.0013\n",
            "Epoch 35/100\n",
            "89/89 [==============================] - 7s 80ms/step - loss: 3.2394e-07 - val_loss: 0.0012\n",
            "Epoch 36/100\n",
            "89/89 [==============================] - 7s 80ms/step - loss: 5.9143e-07 - val_loss: 0.0013\n",
            "Epoch 37/100\n",
            "89/89 [==============================] - 7s 80ms/step - loss: 9.1686e-07 - val_loss: 9.4692e-04\n",
            "Epoch 38/100\n",
            "89/89 [==============================] - 7s 80ms/step - loss: 1.1036e-06 - val_loss: 0.0011\n",
            "Epoch 39/100\n",
            "89/89 [==============================] - 7s 80ms/step - loss: 4.8572e-07 - val_loss: 0.0010\n",
            "Epoch 40/100\n",
            "89/89 [==============================] - 7s 80ms/step - loss: 2.4780e-06 - val_loss: 0.0011\n",
            "Epoch 41/100\n",
            "89/89 [==============================] - 7s 80ms/step - loss: 1.1032e-06 - val_loss: 9.1533e-04\n",
            "Epoch 42/100\n",
            "89/89 [==============================] - 7s 80ms/step - loss: 4.9425e-07 - val_loss: 8.5765e-04\n",
            "Epoch 43/100\n",
            "89/89 [==============================] - 7s 80ms/step - loss: 2.0435e-06 - val_loss: 8.9178e-04\n",
            "Epoch 44/100\n",
            "89/89 [==============================] - 7s 80ms/step - loss: 3.6908e-06 - val_loss: 9.4642e-04\n",
            "Epoch 45/100\n",
            "89/89 [==============================] - 7s 80ms/step - loss: 4.3504e-07 - val_loss: 0.0010\n",
            "Epoch 46/100\n",
            "89/89 [==============================] - 7s 80ms/step - loss: 1.2239e-06 - val_loss: 9.8855e-04\n",
            "Epoch 47/100\n",
            "89/89 [==============================] - 7s 80ms/step - loss: 1.0459e-06 - val_loss: 8.0970e-04\n",
            "Epoch 48/100\n",
            "89/89 [==============================] - 7s 80ms/step - loss: 9.4077e-07 - val_loss: 6.2013e-04\n",
            "Epoch 49/100\n",
            "89/89 [==============================] - 7s 81ms/step - loss: 3.2239e-06 - val_loss: 9.1403e-04\n",
            "Epoch 50/100\n",
            "89/89 [==============================] - 7s 80ms/step - loss: 4.4118e-07 - val_loss: 7.6357e-04\n",
            "Epoch 51/100\n",
            "89/89 [==============================] - 7s 80ms/step - loss: 2.5013e-07 - val_loss: 5.6291e-04\n",
            "Epoch 52/100\n",
            "89/89 [==============================] - 7s 80ms/step - loss: 8.0204e-06 - val_loss: 0.0012\n",
            "Epoch 53/100\n",
            "89/89 [==============================] - 7s 81ms/step - loss: 3.5224e-06 - val_loss: 8.0817e-04\n",
            "Epoch 54/100\n",
            "89/89 [==============================] - 7s 81ms/step - loss: 2.2716e-07 - val_loss: 7.2252e-04\n",
            "Epoch 55/100\n",
            "89/89 [==============================] - 7s 81ms/step - loss: 2.8048e-07 - val_loss: 7.5522e-04\n",
            "Epoch 56/100\n",
            "89/89 [==============================] - 7s 80ms/step - loss: 3.7599e-07 - val_loss: 6.8865e-04\n",
            "Epoch 57/100\n",
            "89/89 [==============================] - 7s 80ms/step - loss: 4.1549e-07 - val_loss: 5.6247e-04\n",
            "Epoch 58/100\n",
            "89/89 [==============================] - 7s 80ms/step - loss: 1.6695e-07 - val_loss: 5.4206e-04\n",
            "Epoch 59/100\n",
            "89/89 [==============================] - 7s 80ms/step - loss: 6.2182e-07 - val_loss: 5.2884e-04\n",
            "Epoch 60/100\n",
            "89/89 [==============================] - 7s 80ms/step - loss: 7.7376e-07 - val_loss: 3.2484e-04\n",
            "Epoch 61/100\n",
            "89/89 [==============================] - 7s 80ms/step - loss: 6.4751e-07 - val_loss: 4.8899e-04\n",
            "Epoch 62/100\n",
            "89/89 [==============================] - 7s 80ms/step - loss: 5.1164e-07 - val_loss: 5.5584e-04\n",
            "Epoch 63/100\n",
            "89/89 [==============================] - 7s 81ms/step - loss: 3.3505e-07 - val_loss: 3.3309e-04\n",
            "Epoch 64/100\n",
            "89/89 [==============================] - 7s 81ms/step - loss: 8.6814e-07 - val_loss: 4.0567e-04\n",
            "Epoch 65/100\n",
            "89/89 [==============================] - 7s 81ms/step - loss: 2.7777e-06 - val_loss: 6.1170e-04\n",
            "Epoch 66/100\n",
            "89/89 [==============================] - 7s 80ms/step - loss: 6.9671e-06 - val_loss: 6.4073e-04\n",
            "Epoch 67/100\n",
            "89/89 [==============================] - 7s 81ms/step - loss: 4.0314e-07 - val_loss: 4.7192e-04\n",
            "Epoch 68/100\n",
            "89/89 [==============================] - 7s 80ms/step - loss: 3.3036e-07 - val_loss: 5.6312e-04\n",
            "Epoch 69/100\n",
            "89/89 [==============================] - 7s 80ms/step - loss: 4.4969e-07 - val_loss: 3.5434e-04\n",
            "Epoch 70/100\n",
            "89/89 [==============================] - 7s 81ms/step - loss: 6.6837e-07 - val_loss: 2.9664e-04\n",
            "Epoch 71/100\n",
            "89/89 [==============================] - 7s 80ms/step - loss: 1.2200e-06 - val_loss: 2.7986e-04\n",
            "Epoch 72/100\n",
            "89/89 [==============================] - 7s 80ms/step - loss: 3.0192e-06 - val_loss: 3.1181e-04\n",
            "Epoch 73/100\n",
            "89/89 [==============================] - 7s 80ms/step - loss: 2.8575e-06 - val_loss: 3.5583e-04\n",
            "Epoch 74/100\n",
            "89/89 [==============================] - 7s 80ms/step - loss: 1.9259e-07 - val_loss: 2.6894e-04\n",
            "Epoch 75/100\n",
            "89/89 [==============================] - 7s 80ms/step - loss: 1.8177e-07 - val_loss: 2.8563e-04\n",
            "Epoch 76/100\n",
            "89/89 [==============================] - 7s 80ms/step - loss: 7.6140e-07 - val_loss: 2.5124e-04\n",
            "Epoch 77/100\n",
            "89/89 [==============================] - 7s 80ms/step - loss: 1.5124e-07 - val_loss: 2.0535e-04\n",
            "Epoch 78/100\n",
            "89/89 [==============================] - 7s 80ms/step - loss: 2.6004e-07 - val_loss: 1.4814e-04\n",
            "Epoch 79/100\n",
            "89/89 [==============================] - 7s 80ms/step - loss: 2.5675e-07 - val_loss: 1.3721e-04\n",
            "Epoch 80/100\n",
            "89/89 [==============================] - 7s 81ms/step - loss: 1.0106e-06 - val_loss: 1.1538e-04\n",
            "Epoch 81/100\n",
            "89/89 [==============================] - 7s 80ms/step - loss: 1.9809e-07 - val_loss: 1.0845e-04\n",
            "Epoch 82/100\n",
            "89/89 [==============================] - 7s 80ms/step - loss: 8.5303e-07 - val_loss: 7.3978e-05\n",
            "Epoch 83/100\n",
            "89/89 [==============================] - 7s 80ms/step - loss: 4.6086e-06 - val_loss: 4.4198e-04\n",
            "Epoch 84/100\n",
            "89/89 [==============================] - 7s 80ms/step - loss: 3.2903e-06 - val_loss: 2.1724e-04\n",
            "Epoch 85/100\n",
            "89/89 [==============================] - 7s 80ms/step - loss: 1.7575e-07 - val_loss: 1.8314e-04\n",
            "Epoch 86/100\n",
            "89/89 [==============================] - 7s 81ms/step - loss: 9.8822e-08 - val_loss: 1.2418e-04\n",
            "Epoch 87/100\n",
            "89/89 [==============================] - 7s 80ms/step - loss: 9.1972e-08 - val_loss: 9.4988e-05\n",
            "Epoch 88/100\n",
            "89/89 [==============================] - 7s 80ms/step - loss: 1.2697e-07 - val_loss: 6.0746e-05\n",
            "Epoch 89/100\n",
            "89/89 [==============================] - 7s 80ms/step - loss: 4.4255e-07 - val_loss: 5.8926e-05\n",
            "Epoch 90/100\n",
            "89/89 [==============================] - 7s 80ms/step - loss: 6.4938e-08 - val_loss: 5.3129e-05\n",
            "Epoch 91/100\n",
            "89/89 [==============================] - 7s 81ms/step - loss: 1.6426e-07 - val_loss: 2.5629e-05\n",
            "Epoch 92/100\n",
            "89/89 [==============================] - 7s 81ms/step - loss: 2.7195e-07 - val_loss: 3.2820e-05\n",
            "Epoch 93/100\n",
            "89/89 [==============================] - 7s 80ms/step - loss: 1.1553e-06 - val_loss: 1.3838e-04\n",
            "Epoch 94/100\n",
            "89/89 [==============================] - 7s 81ms/step - loss: 1.1918e-06 - val_loss: 3.3842e-05\n",
            "Epoch 95/100\n",
            "89/89 [==============================] - 7s 81ms/step - loss: 7.1361e-08 - val_loss: 2.5635e-05\n",
            "Epoch 96/100\n",
            "89/89 [==============================] - 7s 80ms/step - loss: 2.8477e-06 - val_loss: 5.1391e-05\n",
            "Epoch 97/100\n",
            "89/89 [==============================] - 7s 80ms/step - loss: 1.2478e-07 - val_loss: 5.1111e-05\n",
            "Epoch 98/100\n",
            "89/89 [==============================] - 7s 81ms/step - loss: 9.9400e-08 - val_loss: 3.1986e-05\n",
            "Epoch 99/100\n",
            "89/89 [==============================] - 7s 80ms/step - loss: 9.8509e-07 - val_loss: 5.2109e-05\n",
            "Epoch 100/100\n",
            "89/89 [==============================] - 7s 80ms/step - loss: 4.8334e-07 - val_loss: 3.5814e-05\n"
          ],
          "name": "stdout"
        },
        {
          "output_type": "execute_result",
          "data": {
            "text/plain": [
              "<tensorflow.python.keras.callbacks.History at 0x7ff0ee70fe10>"
            ]
          },
          "metadata": {
            "tags": []
          },
          "execution_count": 8
        }
      ]
    },
    {
      "cell_type": "code",
      "metadata": {
        "id": "n_O63P4BL9nX"
      },
      "source": [
        "import tensorflow as tf\n",
        "\n",
        "tf.__version__\n",
        "\n",
        "##Lets Do the Prediction and check performance metrics\n",
        "train_predict=model.predict(X_train)\n",
        "test_predict=model.predict(X_test)\n",
        "\n",
        "##transform to orginal form\n",
        "train_predict=scaler.inverse_transform(train_predict)\n",
        "test_predict=scaler.inverse_transform(test_predict)"
      ],
      "execution_count": 9,
      "outputs": []
    },
    {
      "cell_type": "code",
      "metadata": {
        "colab": {
          "base_uri": "https://localhost:8080/"
        },
        "id": "KUDb464HL9nY",
        "outputId": "f9383251-26c5-43b8-8749-6a769a6b4881"
      },
      "source": [
        "##calculate RMSE performance metrics\n",
        "import math\n",
        "from sklearn.metrics import mean_squared_error\n",
        "print(math.sqrt(mean_squared_error(y_train,train_predict)))\n",
        "print(math.sqrt(mean_squared_error(y_test,test_predict)))"
      ],
      "execution_count": 10,
      "outputs": [
        {
          "output_type": "stream",
          "text": [
            "6.984311817138064\n",
            "23.708095808458733\n"
          ],
          "name": "stdout"
        }
      ]
    },
    {
      "cell_type": "code",
      "metadata": {
        "colab": {
          "base_uri": "https://localhost:8080/",
          "height": 268
        },
        "id": "PJHyNUmcL9nb",
        "outputId": "a2743112-87f1-499b-d11b-83047358e92d"
      },
      "source": [
        "##Plotting\n",
        "##shift train predictions for plotting\n",
        "look_back=100\n",
        "trainPredictPlot=numpy.empty_like(df1)\n",
        "trainPredictPlot[:,:]=np.nan\n",
        "trainPredictPlot[look_back:len(train_predict)+look_back,:]=train_predict\n",
        "\n",
        "##shift test predictions for plotting\n",
        "testPredictPlot =numpy.empty_like(df1)\n",
        "testPredictPlot[:,:]=numpy.nan\n",
        "testPredictPlot[len(train_predict)+(look_back*2)+1:len(df1)-1,:]=test_predict\n",
        "\n",
        "##plot baseline and predictions\n",
        "plt.plot(scaler.inverse_transform(df1))\n",
        "plt.plot(trainPredictPlot)\n",
        "plt.plot(testPredictPlot)\n",
        "plt.show()"
      ],
      "execution_count": 11,
      "outputs": [
        {
          "output_type": "display_data",
          "data": {
            "image/png": "[encoded data removed]",
            "text/plain": [
              "<Figure size 432x288 with 1 Axes>"
            ]
          },
          "metadata": {
            "tags": [],
            "needs_background": "light"
          }
        }
      ]
    },
    {
      "cell_type": "markdown",
      "metadata": {
        "id": "VAla8TNNL9nc"
      },
      "source": [
        "## The Targeted value of Historical dataset is Closing price"
      ]
    },
    {
      "cell_type": "code",
      "metadata": {
        "colab": {
          "base_uri": "https://localhost:8080/",
          "height": 201
        },
        "id": "0km9BammL9nd",
        "outputId": "ff98c77d-f3d8-42be-8f5b-a7ab09e37e7c"
      },
      "source": [
        "import pandas as pd\n",
        "df=pd.read_excel('/content/history.xlsx')\n",
        "df.head()"
      ],
      "execution_count": 12,
      "outputs": [
        {
          "output_type": "execute_result",
          "data": {
            "text/html": [
              "<div>\n",
              "<style scoped>\n",
              "    .dataframe tbody tr th:only-of-type {\n",
              "        vertical-align: middle;\n",
              "    }\n",
              "\n",
              "    .dataframe tbody tr th {\n",
              "        vertical-align: top;\n",
              "    }\n",
              "\n",
              "    .dataframe thead th {\n",
              "        text-align: right;\n",
              "    }\n",
              "</style>\n",
              "<table border=\"1\" class=\"dataframe\">\n",
              "  <thead>\n",
              "    <tr style=\"text-align: right;\">\n",
              "      <th></th>\n",
              "      <th>Date</th>\n",
              "      <th>Open</th>\n",
              "      <th>High</th>\n",
              "      <th>Low</th>\n",
              "      <th>Close</th>\n",
              "      <th>Adj Close</th>\n",
              "      <th>Volume</th>\n",
              "      <th>daily lag</th>\n",
              "      <th>Daily return</th>\n",
              "      <th>SMA(10 interval)</th>\n",
              "      <th>EMA</th>\n",
              "      <th>DailyVariationPercentage</th>\n",
              "      <th>Multiplyer</th>\n",
              "    </tr>\n",
              "  </thead>\n",
              "  <tbody>\n",
              "    <tr>\n",
              "      <th>0</th>\n",
              "      <td>1986-03-13</td>\n",
              "      <td>0.088542</td>\n",
              "      <td>0.101563</td>\n",
              "      <td>0.088542</td>\n",
              "      <td>0.097222</td>\n",
              "      <td>0.061751</td>\n",
              "      <td>1031788800</td>\n",
              "      <td>0.000000</td>\n",
              "      <td>0.000000</td>\n",
              "      <td>0.097222</td>\n",
              "      <td>0.097222</td>\n",
              "      <td>8.928021</td>\n",
              "      <td>NaN</td>\n",
              "    </tr>\n",
              "    <tr>\n",
              "      <th>1</th>\n",
              "      <td>1986-03-14</td>\n",
              "      <td>0.097222</td>\n",
              "      <td>0.102431</td>\n",
              "      <td>0.097222</td>\n",
              "      <td>0.100694</td>\n",
              "      <td>0.063956</td>\n",
              "      <td>308160000</td>\n",
              "      <td>0.097222</td>\n",
              "      <td>-0.034481</td>\n",
              "      <td>0.098958</td>\n",
              "      <td>0.097223</td>\n",
              "      <td>3.448071</td>\n",
              "      <td>0.000226</td>\n",
              "    </tr>\n",
              "    <tr>\n",
              "      <th>2</th>\n",
              "      <td>1986-03-17</td>\n",
              "      <td>0.100694</td>\n",
              "      <td>0.103299</td>\n",
              "      <td>0.100694</td>\n",
              "      <td>0.102431</td>\n",
              "      <td>0.065059</td>\n",
              "      <td>133171200</td>\n",
              "      <td>0.100694</td>\n",
              "      <td>-0.016958</td>\n",
              "      <td>0.100116</td>\n",
              "      <td>0.097224</td>\n",
              "      <td>1.695774</td>\n",
              "      <td>NaN</td>\n",
              "    </tr>\n",
              "    <tr>\n",
              "      <th>3</th>\n",
              "      <td>1986-03-18</td>\n",
              "      <td>0.102431</td>\n",
              "      <td>0.103299</td>\n",
              "      <td>0.098958</td>\n",
              "      <td>0.099826</td>\n",
              "      <td>0.063405</td>\n",
              "      <td>67766400</td>\n",
              "      <td>0.102431</td>\n",
              "      <td>0.026095</td>\n",
              "      <td>0.100043</td>\n",
              "      <td>0.097225</td>\n",
              "      <td>-2.609539</td>\n",
              "      <td>NaN</td>\n",
              "    </tr>\n",
              "    <tr>\n",
              "      <th>4</th>\n",
              "      <td>1986-03-19</td>\n",
              "      <td>0.099826</td>\n",
              "      <td>0.100694</td>\n",
              "      <td>0.097222</td>\n",
              "      <td>0.098090</td>\n",
              "      <td>0.062302</td>\n",
              "      <td>47894400</td>\n",
              "      <td>0.099826</td>\n",
              "      <td>0.017698</td>\n",
              "      <td>0.099653</td>\n",
              "      <td>0.097225</td>\n",
              "      <td>-1.769803</td>\n",
              "      <td>NaN</td>\n",
              "    </tr>\n",
              "  </tbody>\n",
              "</table>\n",
              "</div>"
            ],
            "text/plain": [
              "        Date      Open  ...  DailyVariationPercentage  Multiplyer\n",
              "0 1986-03-13  0.088542  ...                  8.928021         NaN\n",
              "1 1986-03-14  0.097222  ...                  3.448071    0.000226\n",
              "2 1986-03-17  0.100694  ...                  1.695774         NaN\n",
              "3 1986-03-18  0.102431  ...                 -2.609539         NaN\n",
              "4 1986-03-19  0.099826  ...                 -1.769803         NaN\n",
              "\n",
              "[5 rows x 13 columns]"
            ]
          },
          "metadata": {
            "tags": []
          },
          "execution_count": 12
        }
      ]
    },
    {
      "cell_type": "code",
      "metadata": {
        "colab": {
          "base_uri": "https://localhost:8080/",
          "height": 283
        },
        "id": "MrBPNEnOL9ne",
        "outputId": "cbbd6f32-300e-4fc3-b595-ff5fbc447480"
      },
      "source": [
        "##prediction on close\n",
        "df1=df.reset_index()[\"Close\"]\n",
        "df1.shape\n",
        "\n",
        "import matplotlib.pyplot as plt\n",
        "plt.plot(df1)\n"
      ],
      "execution_count": 13,
      "outputs": [
        {
          "output_type": "execute_result",
          "data": {
            "text/plain": [
              "[<matplotlib.lines.Line2D at 0x7ff0df285190>]"
            ]
          },
          "metadata": {
            "tags": []
          },
          "execution_count": 13
        },
        {
          "output_type": "display_data",
          "data": {
            "image/png": "[encoded data removed]",
            "text/plain": [
              "<Figure size 432x288 with 1 Axes>"
            ]
          },
          "metadata": {
            "tags": [],
            "needs_background": "light"
          }
        }
      ]
    },
    {
      "cell_type": "code",
      "metadata": {
        "colab": {
          "base_uri": "https://localhost:8080/"
        },
        "id": "0pVT5mOjL9nf",
        "outputId": "01208180-7cd8-4804-c662-42fd65e29d39"
      },
      "source": [
        "import numpy as np\n",
        "from sklearn.preprocessing import MinMaxScaler\n",
        "scaler=MinMaxScaler(feature_range=(0,1))\n",
        "df1=scaler.fit_transform(np.array(df1).reshape(-1,1))\n",
        "\n",
        "df1.shape\n",
        "\n",
        "##Spliting train test split\n",
        "training_size=int(len(df1)*0.65)\n",
        "test_size=len(df1)-training_size\n",
        "train_data,test_data=df1[0:training_size,:],df1[training_size:len(df1),:1]\n",
        "print(training_size)\n",
        "print(test_size)\n",
        "print(df1.shape)"
      ],
      "execution_count": 14,
      "outputs": [
        {
          "output_type": "stream",
          "text": [
            "5757\n",
            "3100\n",
            "(8857, 1)\n"
          ],
          "name": "stdout"
        }
      ]
    },
    {
      "cell_type": "code",
      "metadata": {
        "colab": {
          "base_uri": "https://localhost:8080/"
        },
        "id": "-GxbE1LFL9nf",
        "outputId": "4af751d7-7b38-4a4a-c19c-83b394428935"
      },
      "source": [
        "##convert an array of values into a dataset matrix\n",
        "import numpy\n",
        "def create_dataset(dataset,time_step=1):\n",
        "\tdataX,dataY=[],[]\n",
        "\tfor i in range(len(dataset)-time_step-1):\n",
        "\t\ta=dataset[i:(i+time_step),0]\n",
        "\t\tdataX.append(a)\n",
        "\t\tdataY.append(dataset[i+time_step,0])\n",
        "\treturn numpy.array(dataX),numpy.array(dataY)\n",
        "\n",
        "##reshape into X=t,t+1,t+2,t+3 and t+4\n",
        "time_step=100\n",
        "X_train,y_train=create_dataset(train_data,time_step)\n",
        "X_test,y_test=create_dataset(test_data,time_step)\n",
        " \n",
        "\n",
        "#reshape input to be [samples,time steps,features] which is required for LSTM\n",
        "X_train=X_train.reshape(X_train.shape[0],X_train.shape[1],1)\n",
        "X_test=X_test.reshape(X_test.shape[0],X_test.shape[1],1)\n",
        "\n",
        "##create the LSTM model\n",
        "from tensorflow.keras.models import Sequential\n",
        "from tensorflow.keras.layers import Dense\n",
        "from tensorflow.keras.layers import LSTM\n",
        "\n",
        "model=Sequential()\n",
        "model.add(LSTM(50,return_sequences=True,input_shape=(100,1)))\n",
        "model.add(LSTM(50,return_sequences=True))\n",
        "model.add(LSTM(50))\n",
        "model.add(Dense(1))\n",
        "model.compile(loss='mean_squared_error',optimizer='adam')\n",
        "\n",
        "model.summary()\n",
        "\n",
        "model.fit(X_train,y_train,validation_data=(X_test,y_test),epochs=100,batch_size=64,verbose=1)\n"
      ],
      "execution_count": 15,
      "outputs": [
        {
          "output_type": "stream",
          "text": [
            "Model: \"sequential_1\"\n",
            "_________________________________________________________________\n",
            "Layer (type)                 Output Shape              Param #   \n",
            "=================================================================\n",
            "lstm_3 (LSTM)                (None, 100, 50)           10400     \n",
            "_________________________________________________________________\n",
            "lstm_4 (LSTM)                (None, 100, 50)           20200     \n",
            "_________________________________________________________________\n",
            "lstm_5 (LSTM)                (None, 50)                20200     \n",
            "_________________________________________________________________\n",
            "dense_1 (Dense)              (None, 1)                 51        \n",
            "=================================================================\n",
            "Total params: 50,851\n",
            "Trainable params: 50,851\n",
            "Non-trainable params: 0\n",
            "_________________________________________________________________\n",
            "Epoch 1/100\n",
            "89/89 [==============================] - 13s 95ms/step - loss: 3.1080e-04 - val_loss: 0.0020\n",
            "Epoch 2/100\n",
            "89/89 [==============================] - 7s 80ms/step - loss: 3.3332e-05 - val_loss: 0.0027\n",
            "Epoch 3/100\n",
            "89/89 [==============================] - 7s 81ms/step - loss: 3.1803e-05 - val_loss: 0.0031\n",
            "Epoch 4/100\n",
            "89/89 [==============================] - 7s 80ms/step - loss: 3.0953e-05 - val_loss: 0.0036\n",
            "Epoch 5/100\n",
            "89/89 [==============================] - 7s 80ms/step - loss: 2.7764e-05 - val_loss: 0.0024\n",
            "Epoch 6/100\n",
            "89/89 [==============================] - 7s 80ms/step - loss: 2.5740e-05 - val_loss: 0.0019\n",
            "Epoch 7/100\n",
            "89/89 [==============================] - 7s 81ms/step - loss: 2.2744e-05 - val_loss: 0.0022\n",
            "Epoch 8/100\n",
            "89/89 [==============================] - 7s 81ms/step - loss: 1.9400e-05 - val_loss: 0.0015\n",
            "Epoch 9/100\n",
            "89/89 [==============================] - 7s 81ms/step - loss: 1.8122e-05 - val_loss: 0.0015\n",
            "Epoch 10/100\n",
            "89/89 [==============================] - 7s 80ms/step - loss: 1.7761e-05 - val_loss: 0.0016\n",
            "Epoch 11/100\n",
            "89/89 [==============================] - 7s 80ms/step - loss: 1.7607e-05 - val_loss: 0.0015\n",
            "Epoch 12/100\n",
            "89/89 [==============================] - 7s 80ms/step - loss: 1.4893e-05 - val_loss: 0.0013\n",
            "Epoch 13/100\n",
            "89/89 [==============================] - 7s 80ms/step - loss: 1.7294e-05 - val_loss: 7.9940e-04\n",
            "Epoch 14/100\n",
            "89/89 [==============================] - 7s 80ms/step - loss: 1.4569e-05 - val_loss: 9.1202e-04\n",
            "Epoch 15/100\n",
            "89/89 [==============================] - 7s 80ms/step - loss: 1.3651e-05 - val_loss: 9.8456e-04\n",
            "Epoch 16/100\n",
            "89/89 [==============================] - 7s 80ms/step - loss: 1.3999e-05 - val_loss: 0.0011\n",
            "Epoch 17/100\n",
            "89/89 [==============================] - 7s 80ms/step - loss: 1.6398e-05 - val_loss: 7.8383e-04\n",
            "Epoch 18/100\n",
            "89/89 [==============================] - 7s 80ms/step - loss: 1.3215e-05 - val_loss: 3.9216e-04\n",
            "Epoch 19/100\n",
            "89/89 [==============================] - 7s 81ms/step - loss: 1.2521e-05 - val_loss: 2.5291e-04\n",
            "Epoch 20/100\n",
            "89/89 [==============================] - 7s 80ms/step - loss: 1.4834e-05 - val_loss: 4.3803e-04\n",
            "Epoch 21/100\n",
            "89/89 [==============================] - 7s 81ms/step - loss: 1.1368e-05 - val_loss: 3.2710e-04\n",
            "Epoch 22/100\n",
            "89/89 [==============================] - 7s 80ms/step - loss: 1.2777e-05 - val_loss: 3.9263e-04\n",
            "Epoch 23/100\n",
            "89/89 [==============================] - 7s 81ms/step - loss: 1.0926e-05 - val_loss: 2.6542e-04\n",
            "Epoch 24/100\n",
            "89/89 [==============================] - 7s 81ms/step - loss: 1.0604e-05 - val_loss: 2.3424e-04\n",
            "Epoch 25/100\n",
            "89/89 [==============================] - 7s 80ms/step - loss: 9.7675e-06 - val_loss: 1.3443e-04\n",
            "Epoch 26/100\n",
            "89/89 [==============================] - 7s 81ms/step - loss: 1.0814e-05 - val_loss: 3.4672e-04\n",
            "Epoch 27/100\n",
            "89/89 [==============================] - 7s 80ms/step - loss: 1.0114e-05 - val_loss: 3.0738e-04\n",
            "Epoch 28/100\n",
            "89/89 [==============================] - 7s 80ms/step - loss: 1.0222e-05 - val_loss: 3.6689e-04\n",
            "Epoch 29/100\n",
            "89/89 [==============================] - 7s 80ms/step - loss: 1.1159e-05 - val_loss: 3.5535e-04\n",
            "Epoch 30/100\n",
            "89/89 [==============================] - 7s 80ms/step - loss: 8.4819e-06 - val_loss: 2.4046e-04\n",
            "Epoch 31/100\n",
            "89/89 [==============================] - 7s 81ms/step - loss: 9.5588e-06 - val_loss: 2.3995e-04\n",
            "Epoch 32/100\n",
            "89/89 [==============================] - 7s 79ms/step - loss: 9.3263e-06 - val_loss: 2.2747e-04\n",
            "Epoch 33/100\n",
            "89/89 [==============================] - 7s 80ms/step - loss: 9.7416e-06 - val_loss: 2.6743e-04\n",
            "Epoch 34/100\n",
            "89/89 [==============================] - 7s 80ms/step - loss: 8.9340e-06 - val_loss: 3.5092e-04\n",
            "Epoch 35/100\n",
            "89/89 [==============================] - 7s 80ms/step - loss: 8.3190e-06 - val_loss: 1.2900e-04\n",
            "Epoch 36/100\n",
            "89/89 [==============================] - 7s 80ms/step - loss: 8.4090e-06 - val_loss: 1.7854e-04\n",
            "Epoch 37/100\n",
            "89/89 [==============================] - 7s 80ms/step - loss: 7.9588e-06 - val_loss: 2.4426e-04\n",
            "Epoch 38/100\n",
            "89/89 [==============================] - 7s 79ms/step - loss: 7.3729e-06 - val_loss: 2.2154e-04\n",
            "Epoch 39/100\n",
            "89/89 [==============================] - 7s 81ms/step - loss: 7.8589e-06 - val_loss: 5.0471e-04\n",
            "Epoch 40/100\n",
            "89/89 [==============================] - 7s 80ms/step - loss: 7.5122e-06 - val_loss: 2.8620e-04\n",
            "Epoch 41/100\n",
            "89/89 [==============================] - 7s 81ms/step - loss: 7.4039e-06 - val_loss: 3.4180e-04\n",
            "Epoch 42/100\n",
            "89/89 [==============================] - 7s 80ms/step - loss: 7.8751e-06 - val_loss: 5.1545e-04\n",
            "Epoch 43/100\n",
            "89/89 [==============================] - 7s 81ms/step - loss: 6.7175e-06 - val_loss: 1.7562e-04\n",
            "Epoch 44/100\n",
            "89/89 [==============================] - 7s 81ms/step - loss: 5.9698e-06 - val_loss: 1.9075e-04\n",
            "Epoch 45/100\n",
            "89/89 [==============================] - 7s 81ms/step - loss: 6.2331e-06 - val_loss: 3.3321e-04\n",
            "Epoch 46/100\n",
            "89/89 [==============================] - 7s 80ms/step - loss: 5.7924e-06 - val_loss: 2.5949e-04\n",
            "Epoch 47/100\n",
            "89/89 [==============================] - 7s 80ms/step - loss: 5.7195e-06 - val_loss: 2.7432e-04\n",
            "Epoch 48/100\n",
            "89/89 [==============================] - 7s 80ms/step - loss: 5.4956e-06 - val_loss: 9.7787e-05\n",
            "Epoch 49/100\n",
            "89/89 [==============================] - 7s 81ms/step - loss: 6.5773e-06 - val_loss: 3.5946e-04\n",
            "Epoch 50/100\n",
            "89/89 [==============================] - 7s 80ms/step - loss: 5.4625e-06 - val_loss: 7.5338e-05\n",
            "Epoch 51/100\n",
            "89/89 [==============================] - 7s 80ms/step - loss: 5.9644e-06 - val_loss: 1.1845e-04\n",
            "Epoch 52/100\n",
            "89/89 [==============================] - 7s 80ms/step - loss: 6.5682e-06 - val_loss: 2.5514e-04\n",
            "Epoch 53/100\n",
            "89/89 [==============================] - 7s 81ms/step - loss: 5.1561e-06 - val_loss: 3.2529e-04\n",
            "Epoch 54/100\n",
            "89/89 [==============================] - 7s 81ms/step - loss: 4.6522e-06 - val_loss: 1.9014e-04\n",
            "Epoch 55/100\n",
            "89/89 [==============================] - 7s 79ms/step - loss: 4.6144e-06 - val_loss: 2.1328e-04\n",
            "Epoch 56/100\n",
            "89/89 [==============================] - 7s 80ms/step - loss: 4.9593e-06 - val_loss: 2.4001e-04\n",
            "Epoch 57/100\n",
            "89/89 [==============================] - 7s 80ms/step - loss: 5.0735e-06 - val_loss: 3.3079e-04\n",
            "Epoch 58/100\n",
            "89/89 [==============================] - 7s 81ms/step - loss: 5.4391e-06 - val_loss: 2.2576e-04\n",
            "Epoch 59/100\n",
            "89/89 [==============================] - 7s 80ms/step - loss: 4.7683e-06 - val_loss: 1.8309e-04\n",
            "Epoch 60/100\n",
            "89/89 [==============================] - 7s 80ms/step - loss: 4.9801e-06 - val_loss: 1.4096e-04\n",
            "Epoch 61/100\n",
            "89/89 [==============================] - 7s 81ms/step - loss: 5.2521e-06 - val_loss: 3.0777e-04\n",
            "Epoch 62/100\n",
            "89/89 [==============================] - 7s 81ms/step - loss: 4.8923e-06 - val_loss: 1.8997e-04\n",
            "Epoch 63/100\n",
            "89/89 [==============================] - 7s 80ms/step - loss: 5.0751e-06 - val_loss: 2.3921e-04\n",
            "Epoch 64/100\n",
            "89/89 [==============================] - 7s 80ms/step - loss: 5.7338e-06 - val_loss: 3.7639e-04\n",
            "Epoch 65/100\n",
            "89/89 [==============================] - 7s 80ms/step - loss: 6.2498e-06 - val_loss: 1.2362e-04\n",
            "Epoch 66/100\n",
            "89/89 [==============================] - 7s 81ms/step - loss: 5.0728e-06 - val_loss: 1.4462e-04\n",
            "Epoch 67/100\n",
            "89/89 [==============================] - 7s 81ms/step - loss: 5.4945e-06 - val_loss: 1.3284e-04\n",
            "Epoch 68/100\n",
            "89/89 [==============================] - 7s 81ms/step - loss: 5.6216e-06 - val_loss: 2.9547e-04\n",
            "Epoch 69/100\n",
            "89/89 [==============================] - 7s 81ms/step - loss: 5.6054e-06 - val_loss: 3.4518e-04\n",
            "Epoch 70/100\n",
            "89/89 [==============================] - 7s 81ms/step - loss: 5.0096e-06 - val_loss: 2.7070e-04\n",
            "Epoch 71/100\n",
            "89/89 [==============================] - 7s 80ms/step - loss: 6.3176e-06 - val_loss: 3.4201e-04\n",
            "Epoch 72/100\n",
            "89/89 [==============================] - 7s 81ms/step - loss: 5.0324e-06 - val_loss: 2.9649e-04\n",
            "Epoch 73/100\n",
            "89/89 [==============================] - 7s 81ms/step - loss: 4.3166e-06 - val_loss: 2.5096e-04\n",
            "Epoch 74/100\n",
            "89/89 [==============================] - 7s 81ms/step - loss: 4.6630e-06 - val_loss: 3.4039e-04\n",
            "Epoch 75/100\n",
            "89/89 [==============================] - 7s 81ms/step - loss: 4.5231e-06 - val_loss: 3.4769e-04\n",
            "Epoch 76/100\n",
            "89/89 [==============================] - 7s 81ms/step - loss: 4.6146e-06 - val_loss: 4.2122e-04\n",
            "Epoch 77/100\n",
            "89/89 [==============================] - 7s 81ms/step - loss: 4.5901e-06 - val_loss: 3.1967e-04\n",
            "Epoch 78/100\n",
            "89/89 [==============================] - 7s 81ms/step - loss: 4.5294e-06 - val_loss: 4.4799e-04\n",
            "Epoch 79/100\n",
            "89/89 [==============================] - 7s 80ms/step - loss: 5.0176e-06 - val_loss: 1.8864e-04\n",
            "Epoch 80/100\n",
            "89/89 [==============================] - 7s 80ms/step - loss: 4.6740e-06 - val_loss: 3.5390e-04\n",
            "Epoch 81/100\n",
            "89/89 [==============================] - 7s 81ms/step - loss: 5.0402e-06 - val_loss: 3.4970e-04\n",
            "Epoch 82/100\n",
            "89/89 [==============================] - 7s 80ms/step - loss: 5.1277e-06 - val_loss: 2.6347e-04\n",
            "Epoch 83/100\n",
            "89/89 [==============================] - 7s 81ms/step - loss: 5.0644e-06 - val_loss: 2.3233e-04\n",
            "Epoch 84/100\n",
            "89/89 [==============================] - 7s 81ms/step - loss: 5.4478e-06 - val_loss: 3.1463e-04\n",
            "Epoch 85/100\n",
            "89/89 [==============================] - 7s 81ms/step - loss: 4.5090e-06 - val_loss: 4.0678e-04\n",
            "Epoch 86/100\n",
            "89/89 [==============================] - 7s 80ms/step - loss: 4.6119e-06 - val_loss: 4.6656e-04\n",
            "Epoch 87/100\n",
            "89/89 [==============================] - 7s 81ms/step - loss: 4.7133e-06 - val_loss: 3.9610e-04\n",
            "Epoch 88/100\n",
            "89/89 [==============================] - 7s 80ms/step - loss: 5.2717e-06 - val_loss: 5.3680e-04\n",
            "Epoch 89/100\n",
            "89/89 [==============================] - 7s 80ms/step - loss: 4.7884e-06 - val_loss: 3.2128e-04\n",
            "Epoch 90/100\n",
            "89/89 [==============================] - 7s 81ms/step - loss: 5.3625e-06 - val_loss: 3.2717e-04\n",
            "Epoch 91/100\n",
            "89/89 [==============================] - 7s 81ms/step - loss: 5.0267e-06 - val_loss: 4.8938e-04\n",
            "Epoch 92/100\n",
            "89/89 [==============================] - 7s 81ms/step - loss: 4.7685e-06 - val_loss: 4.4366e-04\n",
            "Epoch 93/100\n",
            "89/89 [==============================] - 7s 80ms/step - loss: 4.2703e-06 - val_loss: 5.9780e-04\n",
            "Epoch 94/100\n",
            "89/89 [==============================] - 7s 80ms/step - loss: 4.9757e-06 - val_loss: 5.4690e-04\n",
            "Epoch 95/100\n",
            "89/89 [==============================] - 7s 80ms/step - loss: 4.6521e-06 - val_loss: 3.4024e-04\n",
            "Epoch 96/100\n",
            "89/89 [==============================] - 7s 81ms/step - loss: 4.6212e-06 - val_loss: 7.4919e-04\n",
            "Epoch 97/100\n",
            "89/89 [==============================] - 7s 80ms/step - loss: 4.7206e-06 - val_loss: 6.2624e-04\n",
            "Epoch 98/100\n",
            "89/89 [==============================] - 7s 80ms/step - loss: 4.8419e-06 - val_loss: 3.9158e-04\n",
            "Epoch 99/100\n",
            "89/89 [==============================] - 7s 81ms/step - loss: 5.5845e-06 - val_loss: 5.0567e-04\n",
            "Epoch 100/100\n",
            "89/89 [==============================] - 7s 80ms/step - loss: 4.7796e-06 - val_loss: 4.4517e-04\n"
          ],
          "name": "stdout"
        },
        {
          "output_type": "execute_result",
          "data": {
            "text/plain": [
              "<tensorflow.python.keras.callbacks.History at 0x7ff0de6ce5d0>"
            ]
          },
          "metadata": {
            "tags": []
          },
          "execution_count": 15
        }
      ]
    },
    {
      "cell_type": "code",
      "metadata": {
        "id": "2iSFCpUAL9nh"
      },
      "source": [
        "import tensorflow as tf\n",
        "\n",
        "tf.__version__\n",
        "\n",
        "##Lets Do the Prediction and check performance metrics\n",
        "train_predict=model.predict(X_train)\n",
        "test_predict=model.predict(X_test)\n",
        "\n",
        "##transform to orginal form\n",
        "train_predict=scaler.inverse_transform(train_predict)\n",
        "test_predict=scaler.inverse_transform(test_predict)"
      ],
      "execution_count": 16,
      "outputs": []
    },
    {
      "cell_type": "code",
      "metadata": {
        "colab": {
          "base_uri": "https://localhost:8080/"
        },
        "id": "3kvyV6qyL9ni",
        "outputId": "8744911a-bd29-4a2e-e612-87fc4d030cec"
      },
      "source": [
        "##calculate RMSE performance metrics\n",
        "import math\n",
        "from sklearn.metrics import mean_squared_error\n",
        "print(math.sqrt(mean_squared_error(y_train,train_predict)))\n",
        "print(math.sqrt(mean_squared_error(y_test,test_predict)))"
      ],
      "execution_count": 17,
      "outputs": [
        {
          "output_type": "stream",
          "text": [
            "21.76162169109161\n",
            "87.07783434679874\n"
          ],
          "name": "stdout"
        }
      ]
    },
    {
      "cell_type": "code",
      "metadata": {
        "colab": {
          "base_uri": "https://localhost:8080/",
          "height": 265
        },
        "id": "5YsuiWExL9nj",
        "outputId": "da97af52-a1df-475f-ebad-be8d843a736b"
      },
      "source": [
        "##Plotting\n",
        "##shift train predictions for plotting\n",
        "look_back=100\n",
        "trainPredictPlot=numpy.empty_like(df1)\n",
        "trainPredictPlot[:,:]=np.nan\n",
        "trainPredictPlot[look_back:len(train_predict)+look_back,:]=train_predict\n",
        "\n",
        "##shift test predictions for plotting\n",
        "testPredictPlot =numpy.empty_like(df1)\n",
        "testPredictPlot[:,:]=numpy.nan\n",
        "testPredictPlot[len(train_predict)+(look_back*2)+1:len(df1)-1,:]=test_predict\n",
        "\n",
        "##plot baseline and predictions\n",
        "plt.plot(scaler.inverse_transform(df1))\n",
        "plt.plot(trainPredictPlot)\n",
        "plt.plot(testPredictPlot)\n",
        "plt.show()"
      ],
      "execution_count": 18,
      "outputs": [
        {
          "output_type": "display_data",
          "data": {
            "image/png": "[encoded data removed]",
            "text/plain": [
              "<Figure size 432x288 with 1 Axes>"
            ]
          },
          "metadata": {
            "tags": [],
            "needs_background": "light"
          }
        }
      ]
    },
    {
      "cell_type": "markdown",
      "metadata": {
        "id": "3ftICiaXL9nk"
      },
      "source": [
        "## Considering the Monthly dataset, Selecting the Targeting value as Augumeted feature Simple moving Average"
      ]
    },
    {
      "cell_type": "code",
      "metadata": {
        "colab": {
          "base_uri": "https://localhost:8080/",
          "height": 201
        },
        "id": "vsrxwxbWL9nk",
        "outputId": "eeca00ee-b261-47f0-cc08-4d97fc0b6261"
      },
      "source": [
        "import pandas as pd\n",
        "df=pd.read_excel('/content/monthly.xlsx')\n",
        "df.head()\n",
        "df.tail()"
      ],
      "execution_count": 35,
      "outputs": [
        {
          "output_type": "execute_result",
          "data": {
            "text/html": [
              "<div>\n",
              "<style scoped>\n",
              "    .dataframe tbody tr th:only-of-type {\n",
              "        vertical-align: middle;\n",
              "    }\n",
              "\n",
              "    .dataframe tbody tr th {\n",
              "        vertical-align: top;\n",
              "    }\n",
              "\n",
              "    .dataframe thead th {\n",
              "        text-align: right;\n",
              "    }\n",
              "</style>\n",
              "<table border=\"1\" class=\"dataframe\">\n",
              "  <thead>\n",
              "    <tr style=\"text-align: right;\">\n",
              "      <th></th>\n",
              "      <th>Type</th>\n",
              "      <th>Date</th>\n",
              "      <th>Time</th>\n",
              "      <th>open</th>\n",
              "      <th>high</th>\n",
              "      <th>low</th>\n",
              "      <th>close</th>\n",
              "      <th>SMA</th>\n",
              "      <th>EMA</th>\n",
              "      <th>DailyLag</th>\n",
              "      <th>DailyReturn</th>\n",
              "      <th>Month</th>\n",
              "      <th>DailyVariationPercentage</th>\n",
              "      <th>Unnamed: 13</th>\n",
              "    </tr>\n",
              "  </thead>\n",
              "  <tbody>\n",
              "    <tr>\n",
              "      <th>22728</th>\n",
              "      <td>NIFTY</td>\n",
              "      <td>20210331</td>\n",
              "      <td>15:27:00</td>\n",
              "      <td>14687.35</td>\n",
              "      <td>14694.35</td>\n",
              "      <td>14686.30</td>\n",
              "      <td>14690.60</td>\n",
              "      <td>14687.97</td>\n",
              "      <td>14677.354347</td>\n",
              "      <td>14687.65</td>\n",
              "      <td>-0.000201</td>\n",
              "      <td>March</td>\n",
              "      <td>0.054797</td>\n",
              "      <td>NaN</td>\n",
              "    </tr>\n",
              "    <tr>\n",
              "      <th>22729</th>\n",
              "      <td>NIFTY</td>\n",
              "      <td>20210331</td>\n",
              "      <td>15:28:00</td>\n",
              "      <td>14690.90</td>\n",
              "      <td>14690.90</td>\n",
              "      <td>14686.05</td>\n",
              "      <td>14689.30</td>\n",
              "      <td>14688.09</td>\n",
              "      <td>14677.355395</td>\n",
              "      <td>14690.60</td>\n",
              "      <td>0.000088</td>\n",
              "      <td>March</td>\n",
              "      <td>0.033017</td>\n",
              "      <td>NaN</td>\n",
              "    </tr>\n",
              "    <tr>\n",
              "      <th>22730</th>\n",
              "      <td>NIFTY</td>\n",
              "      <td>20210331</td>\n",
              "      <td>15:29:00</td>\n",
              "      <td>14690.30</td>\n",
              "      <td>14694.10</td>\n",
              "      <td>14688.55</td>\n",
              "      <td>14691.30</td>\n",
              "      <td>14689.32</td>\n",
              "      <td>14677.356618</td>\n",
              "      <td>14689.30</td>\n",
              "      <td>-0.000136</td>\n",
              "      <td>March</td>\n",
              "      <td>0.037777</td>\n",
              "      <td>NaN</td>\n",
              "    </tr>\n",
              "    <tr>\n",
              "      <th>22731</th>\n",
              "      <td>NIFTY</td>\n",
              "      <td>20210331</td>\n",
              "      <td>15:30:00</td>\n",
              "      <td>14689.85</td>\n",
              "      <td>14693.55</td>\n",
              "      <td>14689.45</td>\n",
              "      <td>14693.05</td>\n",
              "      <td>14690.38</td>\n",
              "      <td>14677.357994</td>\n",
              "      <td>14691.30</td>\n",
              "      <td>-0.000119</td>\n",
              "      <td>March</td>\n",
              "      <td>0.027904</td>\n",
              "      <td>NaN</td>\n",
              "    </tr>\n",
              "    <tr>\n",
              "      <th>22732</th>\n",
              "      <td>NIFTY</td>\n",
              "      <td>20210331</td>\n",
              "      <td>15:31:00</td>\n",
              "      <td>14690.70</td>\n",
              "      <td>14690.70</td>\n",
              "      <td>14690.70</td>\n",
              "      <td>14690.70</td>\n",
              "      <td>14690.99</td>\n",
              "      <td>14677.359164</td>\n",
              "      <td>14693.05</td>\n",
              "      <td>0.000160</td>\n",
              "      <td>March</td>\n",
              "      <td>0.000000</td>\n",
              "      <td>NaN</td>\n",
              "    </tr>\n",
              "  </tbody>\n",
              "</table>\n",
              "</div>"
            ],
            "text/plain": [
              "        Type      Date      Time  ...  Month  DailyVariationPercentage  Unnamed: 13\n",
              "22728  NIFTY  20210331  15:27:00  ...  March                  0.054797          NaN\n",
              "22729  NIFTY  20210331  15:28:00  ...  March                  0.033017          NaN\n",
              "22730  NIFTY  20210331  15:29:00  ...  March                  0.037777          NaN\n",
              "22731  NIFTY  20210331  15:30:00  ...  March                  0.027904          NaN\n",
              "22732  NIFTY  20210331  15:31:00  ...  March                  0.000000          NaN\n",
              "\n",
              "[5 rows x 14 columns]"
            ]
          },
          "metadata": {
            "tags": []
          },
          "execution_count": 35
        }
      ]
    },
    {
      "cell_type": "code",
      "metadata": {
        "colab": {
          "base_uri": "https://localhost:8080/",
          "height": 286
        },
        "id": "a7qTchaSL9nl",
        "outputId": "ef4cd7cb-fa8a-47b3-a1d6-353afce0563b"
      },
      "source": [
        "##prediction on close\n",
        "df1=df.reset_index()['SMA']\n",
        "df1.shape\n",
        "\n",
        "import matplotlib.pyplot as plt\n",
        "plt.plot(df1)\n"
      ],
      "execution_count": 20,
      "outputs": [
        {
          "output_type": "execute_result",
          "data": {
            "text/plain": [
              "[<matplotlib.lines.Line2D at 0x7ff0db433f10>]"
            ]
          },
          "metadata": {
            "tags": []
          },
          "execution_count": 20
        },
        {
          "output_type": "display_data",
          "data": {
            "image/png": "[encoded data removed]",
            "text/plain": [
              "<Figure size 432x288 with 1 Axes>"
            ]
          },
          "metadata": {
            "tags": [],
            "needs_background": "light"
          }
        }
      ]
    },
    {
      "cell_type": "code",
      "metadata": {
        "colab": {
          "base_uri": "https://localhost:8080/"
        },
        "id": "8am5AdoAL9nl",
        "outputId": "b702ae0e-2dc3-4603-bd64-d77743ef93b1"
      },
      "source": [
        "import numpy as np\n",
        "from sklearn.preprocessing import MinMaxScaler\n",
        "scaler=MinMaxScaler(feature_range=(0,1))\n",
        "df1=scaler.fit_transform(np.array(df1).reshape(-1,1))\n",
        "\n",
        "df1.shape\n",
        "\n",
        "##Spliting train test split\n",
        "training_size=int(len(df1)*0.65)\n",
        "test_size=len(df1)-training_size\n",
        "train_data,test_data=df1[0:training_size,:],df1[training_size:len(df1),:1]\n",
        "print(training_size)\n",
        "print(test_size)"
      ],
      "execution_count": 21,
      "outputs": [
        {
          "output_type": "stream",
          "text": [
            "14776\n",
            "7957\n"
          ],
          "name": "stdout"
        }
      ]
    },
    {
      "cell_type": "code",
      "metadata": {
        "colab": {
          "base_uri": "https://localhost:8080/"
        },
        "id": "2idrOWPCL9nm",
        "outputId": "f34293b4-64d3-4612-fb54-d7d54090f113"
      },
      "source": [
        "##convert an array of values into a dataset matrix\n",
        "import numpy\n",
        "def create_dataset(dataset,time_step=1):\n",
        "\tdataX,dataY=[],[]\n",
        "\tfor i in range(len(dataset)-time_step-1):\n",
        "\t\ta=dataset[i:(i+time_step),0]\n",
        "\t\tdataX.append(a)\n",
        "\t\tdataY.append(dataset[i+time_step,0])\n",
        "\treturn numpy.array(dataX),numpy.array(dataY)\n",
        "\n",
        "##reshape into X=t,t+1,t+2,t+3 and t+4\n",
        "time_step=100\n",
        "X_train,y_train=create_dataset(train_data,time_step)\n",
        "X_test,y_test=create_dataset(test_data,time_step)\n",
        " \n",
        "\n",
        "#reshape input to be [samples,time steps,features] which is required for LSTM\n",
        "X_train=X_train.reshape(X_train.shape[0],X_train.shape[1],1)\n",
        "X_test=X_test.reshape(X_test.shape[0],X_test.shape[1],1)\n",
        "\n",
        "##create the LSTM model\n",
        "from tensorflow.keras.models import Sequential\n",
        "from tensorflow.keras.layers import Dense\n",
        "from tensorflow.keras.layers import LSTM\n",
        "\n",
        "model=Sequential()\n",
        "model.add(LSTM(50,return_sequences=True,input_shape=(100,1)))\n",
        "model.add(LSTM(50,return_sequences=True))\n",
        "model.add(LSTM(50))\n",
        "model.add(Dense(1))\n",
        "model.compile(loss='mean_squared_error',optimizer='adam')\n",
        "\n",
        "model.summary()\n",
        "\n",
        "model.fit(X_train,y_train,validation_data=(X_test,y_test),epochs=100,batch_size=64,verbose=1)\n"
      ],
      "execution_count": 22,
      "outputs": [
        {
          "output_type": "stream",
          "text": [
            "Model: \"sequential_2\"\n",
            "_________________________________________________________________\n",
            "Layer (type)                 Output Shape              Param #   \n",
            "=================================================================\n",
            "lstm_6 (LSTM)                (None, 100, 50)           10400     \n",
            "_________________________________________________________________\n",
            "lstm_7 (LSTM)                (None, 100, 50)           20200     \n",
            "_________________________________________________________________\n",
            "lstm_8 (LSTM)                (None, 50)                20200     \n",
            "_________________________________________________________________\n",
            "dense_2 (Dense)              (None, 1)                 51        \n",
            "=================================================================\n",
            "Total params: 50,851\n",
            "Trainable params: 50,851\n",
            "Non-trainable params: 0\n",
            "_________________________________________________________________\n",
            "Epoch 1/100\n",
            "230/230 [==============================] - 24s 85ms/step - loss: 0.0055 - val_loss: 2.0781e-04\n",
            "Epoch 2/100\n",
            "230/230 [==============================] - 18s 79ms/step - loss: 1.8650e-04 - val_loss: 1.9649e-04\n",
            "Epoch 3/100\n",
            "230/230 [==============================] - 18s 80ms/step - loss: 1.7604e-04 - val_loss: 1.8841e-04\n",
            "Epoch 4/100\n",
            "230/230 [==============================] - 18s 80ms/step - loss: 1.7431e-04 - val_loss: 2.0030e-04\n",
            "Epoch 5/100\n",
            "230/230 [==============================] - 18s 80ms/step - loss: 1.6091e-04 - val_loss: 1.8424e-04\n",
            "Epoch 6/100\n",
            "230/230 [==============================] - 18s 80ms/step - loss: 1.4859e-04 - val_loss: 2.0287e-04\n",
            "Epoch 7/100\n",
            "230/230 [==============================] - 18s 80ms/step - loss: 1.4675e-04 - val_loss: 1.8691e-04\n",
            "Epoch 8/100\n",
            "230/230 [==============================] - 18s 79ms/step - loss: 1.3459e-04 - val_loss: 1.2528e-04\n",
            "Epoch 9/100\n",
            "230/230 [==============================] - 18s 80ms/step - loss: 1.4112e-04 - val_loss: 1.1406e-04\n",
            "Epoch 10/100\n",
            "230/230 [==============================] - 18s 80ms/step - loss: 1.1839e-04 - val_loss: 2.2139e-04\n",
            "Epoch 11/100\n",
            "230/230 [==============================] - 18s 79ms/step - loss: 1.1971e-04 - val_loss: 1.5960e-04\n",
            "Epoch 12/100\n",
            "230/230 [==============================] - 18s 80ms/step - loss: 1.0790e-04 - val_loss: 2.4165e-04\n",
            "Epoch 13/100\n",
            "230/230 [==============================] - 18s 80ms/step - loss: 1.0626e-04 - val_loss: 2.8453e-04\n",
            "Epoch 14/100\n",
            "230/230 [==============================] - 18s 80ms/step - loss: 1.0689e-04 - val_loss: 7.7170e-05\n",
            "Epoch 15/100\n",
            "230/230 [==============================] - 18s 80ms/step - loss: 9.0098e-05 - val_loss: 7.1478e-05\n",
            "Epoch 16/100\n",
            "230/230 [==============================] - 18s 80ms/step - loss: 8.3682e-05 - val_loss: 1.2554e-04\n",
            "Epoch 17/100\n",
            "230/230 [==============================] - 18s 80ms/step - loss: 7.3962e-05 - val_loss: 1.0736e-04\n",
            "Epoch 18/100\n",
            "230/230 [==============================] - 18s 80ms/step - loss: 7.5314e-05 - val_loss: 7.0707e-05\n",
            "Epoch 19/100\n",
            "230/230 [==============================] - 18s 80ms/step - loss: 6.9269e-05 - val_loss: 5.7338e-05\n",
            "Epoch 20/100\n",
            "230/230 [==============================] - 18s 79ms/step - loss: 6.7174e-05 - val_loss: 8.8558e-05\n",
            "Epoch 21/100\n",
            "230/230 [==============================] - 18s 80ms/step - loss: 6.6778e-05 - val_loss: 4.4308e-05\n",
            "Epoch 22/100\n",
            "230/230 [==============================] - 18s 79ms/step - loss: 6.1371e-05 - val_loss: 4.2279e-05\n",
            "Epoch 23/100\n",
            "230/230 [==============================] - 18s 80ms/step - loss: 6.0603e-05 - val_loss: 3.2137e-05\n",
            "Epoch 24/100\n",
            "230/230 [==============================] - 18s 80ms/step - loss: 4.0065e-05 - val_loss: 3.5821e-05\n",
            "Epoch 25/100\n",
            "230/230 [==============================] - 18s 80ms/step - loss: 3.9068e-05 - val_loss: 5.0780e-05\n",
            "Epoch 26/100\n",
            "230/230 [==============================] - 18s 80ms/step - loss: 3.9776e-05 - val_loss: 3.0025e-05\n",
            "Epoch 27/100\n",
            "230/230 [==============================] - 18s 80ms/step - loss: 3.3501e-05 - val_loss: 1.9651e-05\n",
            "Epoch 28/100\n",
            "230/230 [==============================] - 18s 80ms/step - loss: 3.3112e-05 - val_loss: 1.8821e-04\n",
            "Epoch 29/100\n",
            "230/230 [==============================] - 18s 80ms/step - loss: 5.2437e-05 - val_loss: 6.8654e-05\n",
            "Epoch 30/100\n",
            "230/230 [==============================] - 18s 79ms/step - loss: 2.3121e-05 - val_loss: 2.4206e-05\n",
            "Epoch 31/100\n",
            "230/230 [==============================] - 18s 79ms/step - loss: 2.8032e-05 - val_loss: 3.8159e-05\n",
            "Epoch 32/100\n",
            "230/230 [==============================] - 18s 79ms/step - loss: 2.2635e-05 - val_loss: 1.4392e-05\n",
            "Epoch 33/100\n",
            "230/230 [==============================] - 18s 80ms/step - loss: 2.5833e-05 - val_loss: 1.2830e-05\n",
            "Epoch 34/100\n",
            "230/230 [==============================] - 18s 79ms/step - loss: 1.9738e-05 - val_loss: 9.2217e-06\n",
            "Epoch 35/100\n",
            "230/230 [==============================] - 18s 80ms/step - loss: 1.8974e-05 - val_loss: 7.2351e-06\n",
            "Epoch 36/100\n",
            "230/230 [==============================] - 18s 80ms/step - loss: 1.9665e-05 - val_loss: 2.2278e-05\n",
            "Epoch 37/100\n",
            "230/230 [==============================] - 18s 80ms/step - loss: 1.7865e-05 - val_loss: 1.0170e-05\n",
            "Epoch 38/100\n",
            "230/230 [==============================] - 19s 81ms/step - loss: 2.1605e-05 - val_loss: 5.9902e-06\n",
            "Epoch 39/100\n",
            "230/230 [==============================] - 18s 80ms/step - loss: 1.3076e-05 - val_loss: 6.3282e-06\n",
            "Epoch 40/100\n",
            "230/230 [==============================] - 18s 79ms/step - loss: 1.3065e-05 - val_loss: 1.6401e-04\n",
            "Epoch 41/100\n",
            "230/230 [==============================] - 18s 79ms/step - loss: 1.5580e-05 - val_loss: 2.4178e-05\n",
            "Epoch 42/100\n",
            "230/230 [==============================] - 18s 79ms/step - loss: 1.7161e-05 - val_loss: 1.9055e-05\n",
            "Epoch 43/100\n",
            "230/230 [==============================] - 18s 79ms/step - loss: 1.2378e-05 - val_loss: 1.5930e-04\n",
            "Epoch 44/100\n",
            "230/230 [==============================] - 18s 79ms/step - loss: 1.6299e-05 - val_loss: 9.6910e-06\n",
            "Epoch 45/100\n",
            "230/230 [==============================] - 18s 79ms/step - loss: 1.1287e-05 - val_loss: 1.2936e-05\n",
            "Epoch 46/100\n",
            "230/230 [==============================] - 18s 79ms/step - loss: 1.2986e-05 - val_loss: 2.7961e-05\n",
            "Epoch 47/100\n",
            "230/230 [==============================] - 18s 80ms/step - loss: 1.1553e-05 - val_loss: 1.6904e-05\n",
            "Epoch 48/100\n",
            "230/230 [==============================] - 18s 80ms/step - loss: 1.2518e-05 - val_loss: 3.9277e-06\n",
            "Epoch 49/100\n",
            "230/230 [==============================] - 18s 79ms/step - loss: 1.0353e-05 - val_loss: 6.5535e-06\n",
            "Epoch 50/100\n",
            "230/230 [==============================] - 18s 80ms/step - loss: 1.1809e-05 - val_loss: 4.1962e-06\n",
            "Epoch 51/100\n",
            "230/230 [==============================] - 18s 79ms/step - loss: 1.0899e-05 - val_loss: 5.5067e-06\n",
            "Epoch 52/100\n",
            "230/230 [==============================] - 18s 80ms/step - loss: 9.0393e-06 - val_loss: 4.6515e-06\n",
            "Epoch 53/100\n",
            "230/230 [==============================] - 18s 80ms/step - loss: 8.1014e-06 - val_loss: 2.9722e-06\n",
            "Epoch 54/100\n",
            "230/230 [==============================] - 18s 79ms/step - loss: 1.4259e-05 - val_loss: 6.0339e-06\n",
            "Epoch 55/100\n",
            "230/230 [==============================] - 18s 80ms/step - loss: 1.2062e-05 - val_loss: 4.9235e-06\n",
            "Epoch 56/100\n",
            "230/230 [==============================] - 18s 80ms/step - loss: 8.3822e-06 - val_loss: 4.1435e-06\n",
            "Epoch 57/100\n",
            "230/230 [==============================] - 18s 80ms/step - loss: 7.1697e-06 - val_loss: 2.7658e-06\n",
            "Epoch 58/100\n",
            "230/230 [==============================] - 18s 80ms/step - loss: 1.7127e-05 - val_loss: 2.8009e-06\n",
            "Epoch 59/100\n",
            "230/230 [==============================] - 19s 81ms/step - loss: 7.4825e-06 - val_loss: 1.0141e-05\n",
            "Epoch 60/100\n",
            "230/230 [==============================] - 19s 81ms/step - loss: 7.2049e-06 - val_loss: 3.2786e-06\n",
            "Epoch 61/100\n",
            "230/230 [==============================] - 19s 81ms/step - loss: 5.8663e-06 - val_loss: 2.7689e-05\n",
            "Epoch 62/100\n",
            "230/230 [==============================] - 19s 82ms/step - loss: 6.8036e-06 - val_loss: 7.6852e-06\n",
            "Epoch 63/100\n",
            "230/230 [==============================] - 19s 81ms/step - loss: 1.3067e-05 - val_loss: 2.8933e-06\n",
            "Epoch 64/100\n",
            "230/230 [==============================] - 19s 81ms/step - loss: 6.1448e-06 - val_loss: 2.1262e-06\n",
            "Epoch 65/100\n",
            "230/230 [==============================] - 19s 82ms/step - loss: 1.0073e-05 - val_loss: 1.5389e-05\n",
            "Epoch 66/100\n",
            "230/230 [==============================] - 19s 81ms/step - loss: 6.5805e-06 - val_loss: 6.3145e-06\n",
            "Epoch 67/100\n",
            "230/230 [==============================] - 18s 80ms/step - loss: 7.2669e-06 - val_loss: 1.0633e-05\n",
            "Epoch 68/100\n",
            "230/230 [==============================] - 19s 81ms/step - loss: 7.1489e-06 - val_loss: 5.2698e-06\n",
            "Epoch 69/100\n",
            "230/230 [==============================] - 19s 82ms/step - loss: 7.0733e-06 - val_loss: 2.3520e-06\n",
            "Epoch 70/100\n",
            "230/230 [==============================] - 19s 81ms/step - loss: 1.0315e-05 - val_loss: 2.3280e-06\n",
            "Epoch 71/100\n",
            "230/230 [==============================] - 19s 81ms/step - loss: 7.6083e-06 - val_loss: 1.5128e-05\n",
            "Epoch 72/100\n",
            "230/230 [==============================] - 19s 81ms/step - loss: 5.5438e-06 - val_loss: 4.2990e-06\n",
            "Epoch 73/100\n",
            "230/230 [==============================] - 18s 80ms/step - loss: 7.2795e-06 - val_loss: 2.1798e-06\n",
            "Epoch 74/100\n",
            "230/230 [==============================] - 19s 81ms/step - loss: 8.7913e-06 - val_loss: 2.2382e-05\n",
            "Epoch 75/100\n",
            "230/230 [==============================] - 19s 81ms/step - loss: 7.1087e-06 - val_loss: 1.4700e-05\n",
            "Epoch 76/100\n",
            "230/230 [==============================] - 18s 81ms/step - loss: 9.7840e-06 - val_loss: 4.3631e-06\n",
            "Epoch 77/100\n",
            "230/230 [==============================] - 19s 81ms/step - loss: 6.1799e-06 - val_loss: 9.5133e-06\n",
            "Epoch 78/100\n",
            "230/230 [==============================] - 19s 81ms/step - loss: 8.6702e-06 - val_loss: 5.2059e-06\n",
            "Epoch 79/100\n",
            "230/230 [==============================] - 19s 81ms/step - loss: 8.1256e-06 - val_loss: 2.4784e-06\n",
            "Epoch 80/100\n",
            "230/230 [==============================] - 18s 80ms/step - loss: 6.4430e-06 - val_loss: 1.3354e-05\n",
            "Epoch 81/100\n",
            "230/230 [==============================] - 19s 82ms/step - loss: 6.3739e-06 - val_loss: 1.3790e-05\n",
            "Epoch 82/100\n",
            "230/230 [==============================] - 19s 81ms/step - loss: 5.8436e-06 - val_loss: 7.1228e-06\n",
            "Epoch 83/100\n",
            "230/230 [==============================] - 19s 81ms/step - loss: 9.5648e-06 - val_loss: 6.0224e-06\n",
            "Epoch 84/100\n",
            "230/230 [==============================] - 19s 81ms/step - loss: 7.4862e-06 - val_loss: 1.9556e-06\n",
            "Epoch 85/100\n",
            "230/230 [==============================] - 19s 82ms/step - loss: 5.3841e-06 - val_loss: 4.9728e-06\n",
            "Epoch 86/100\n",
            "230/230 [==============================] - 19s 81ms/step - loss: 5.6340e-06 - val_loss: 9.6814e-06\n",
            "Epoch 87/100\n",
            "230/230 [==============================] - 19s 81ms/step - loss: 6.9446e-06 - val_loss: 2.3108e-06\n",
            "Epoch 88/100\n",
            "230/230 [==============================] - 19s 81ms/step - loss: 7.0367e-06 - val_loss: 7.5949e-06\n",
            "Epoch 89/100\n",
            "230/230 [==============================] - 19s 81ms/step - loss: 5.6064e-06 - val_loss: 2.0132e-06\n",
            "Epoch 90/100\n",
            "230/230 [==============================] - 19s 81ms/step - loss: 6.9028e-06 - val_loss: 2.9197e-06\n",
            "Epoch 91/100\n",
            "230/230 [==============================] - 18s 80ms/step - loss: 7.0425e-06 - val_loss: 3.5877e-06\n",
            "Epoch 92/100\n",
            "230/230 [==============================] - 19s 81ms/step - loss: 5.5283e-06 - val_loss: 5.3651e-06\n",
            "Epoch 93/100\n",
            "230/230 [==============================] - 19s 81ms/step - loss: 7.9357e-06 - val_loss: 3.8633e-06\n",
            "Epoch 94/100\n",
            "230/230 [==============================] - 19s 82ms/step - loss: 6.7055e-06 - val_loss: 2.0740e-06\n",
            "Epoch 95/100\n",
            "230/230 [==============================] - 19s 82ms/step - loss: 7.7340e-06 - val_loss: 3.1744e-06\n",
            "Epoch 96/100\n",
            "230/230 [==============================] - 19s 81ms/step - loss: 5.5809e-06 - val_loss: 2.4501e-06\n",
            "Epoch 97/100\n",
            "230/230 [==============================] - 18s 80ms/step - loss: 5.6008e-06 - val_loss: 2.1797e-06\n",
            "Epoch 98/100\n",
            "230/230 [==============================] - 19s 82ms/step - loss: 7.0383e-06 - val_loss: 2.3238e-06\n",
            "Epoch 99/100\n",
            "230/230 [==============================] - 19s 82ms/step - loss: 5.7702e-06 - val_loss: 2.1277e-06\n",
            "Epoch 100/100\n",
            "230/230 [==============================] - 19s 81ms/step - loss: 8.3208e-06 - val_loss: 1.6224e-05\n"
          ],
          "name": "stdout"
        },
        {
          "output_type": "execute_result",
          "data": {
            "text/plain": [
              "<tensorflow.python.keras.callbacks.History at 0x7ff0dc009a50>"
            ]
          },
          "metadata": {
            "tags": []
          },
          "execution_count": 22
        }
      ]
    },
    {
      "cell_type": "code",
      "metadata": {
        "id": "S_CjY0pgL9nm"
      },
      "source": [
        "import tensorflow as tf\n",
        "\n",
        "tf.__version__\n",
        "\n",
        "##Lets Do the Prediction and check performance metrics\n",
        "train_predict=model.predict(X_train)\n",
        "test_predict=model.predict(X_test)\n",
        "\n",
        "##transform to orginal form\n",
        "train_predict=scaler.inverse_transform(train_predict)\n",
        "test_predict=scaler.inverse_transform(test_predict)"
      ],
      "execution_count": 23,
      "outputs": []
    },
    {
      "cell_type": "code",
      "metadata": {
        "colab": {
          "base_uri": "https://localhost:8080/"
        },
        "id": "wnyYab4cL9nn",
        "outputId": "710e7246-a87f-41ea-f344-b2f924ee15f5"
      },
      "source": [
        "##calculate RMSE performance metrics\n",
        "import math\n",
        "from sklearn.metrics import mean_squared_error\n",
        "print(math.sqrt(mean_squared_error(y_train,train_predict)))\n",
        "print(math.sqrt(mean_squared_error(y_test,test_predict)))"
      ],
      "execution_count": 36,
      "outputs": [
        {
          "output_type": "stream",
          "text": [
            "14636.447010653514\n",
            "14840.413638772638\n"
          ],
          "name": "stdout"
        }
      ]
    },
    {
      "cell_type": "code",
      "metadata": {
        "colab": {
          "base_uri": "https://localhost:8080/",
          "height": 267
        },
        "id": "0dWzJ0VcL9nn",
        "outputId": "b0682a22-54ab-450d-bb7c-26434ae37553"
      },
      "source": [
        "##Plotting\n",
        "##shift train predictions for plotting\n",
        "look_back=100\n",
        "trainPredictPlot=numpy.empty_like(df1)\n",
        "trainPredictPlot[:,:]=np.nan\n",
        "trainPredictPlot[look_back:len(train_predict)+look_back,:]=train_predict\n",
        "\n",
        "##shift test predictions for plotting\n",
        "testPredictPlot =numpy.empty_like(df1)\n",
        "testPredictPlot[:,:]=numpy.nan\n",
        "testPredictPlot[len(train_predict)+(look_back*2)+1:len(df1)-1,:]=test_predict\n",
        "\n",
        "##plot baseline and predictions\n",
        "plt.plot(scaler.inverse_transform(df1))\n",
        "plt.plot(trainPredictPlot)\n",
        "plt.plot(testPredictPlot)\n",
        "plt.show()"
      ],
      "execution_count": 25,
      "outputs": [
        {
          "output_type": "display_data",
          "data": {
            "image/png": "[encoded data removed]",
            "text/plain": [
              "<Figure size 432x288 with 1 Axes>"
            ]
          },
          "metadata": {
            "tags": [],
            "needs_background": "light"
          }
        }
      ]
    },
    {
      "cell_type": "markdown",
      "metadata": {
        "id": "NjJR22csL9no"
      },
      "source": [
        "## Considering the Targeted Feature as Closing price of Monthly dataset"
      ]
    },
    {
      "cell_type": "code",
      "metadata": {
        "colab": {
          "base_uri": "https://localhost:8080/",
          "height": 201
        },
        "id": "FUYYi1qpL9no",
        "outputId": "3f1f5df4-d3f3-4ed0-fb91-8907f759a131"
      },
      "source": [
        "import pandas as pd\n",
        "df=pd.read_excel('/content/monthly.xlsx')\n",
        "df.head()"
      ],
      "execution_count": 26,
      "outputs": [
        {
          "output_type": "execute_result",
          "data": {
            "text/html": [
              "<div>\n",
              "<style scoped>\n",
              "    .dataframe tbody tr th:only-of-type {\n",
              "        vertical-align: middle;\n",
              "    }\n",
              "\n",
              "    .dataframe tbody tr th {\n",
              "        vertical-align: top;\n",
              "    }\n",
              "\n",
              "    .dataframe thead th {\n",
              "        text-align: right;\n",
              "    }\n",
              "</style>\n",
              "<table border=\"1\" class=\"dataframe\">\n",
              "  <thead>\n",
              "    <tr style=\"text-align: right;\">\n",
              "      <th></th>\n",
              "      <th>Type</th>\n",
              "      <th>Date</th>\n",
              "      <th>Time</th>\n",
              "      <th>open</th>\n",
              "      <th>high</th>\n",
              "      <th>low</th>\n",
              "      <th>close</th>\n",
              "      <th>SMA</th>\n",
              "      <th>EMA</th>\n",
              "      <th>DailyLag</th>\n",
              "      <th>DailyReturn</th>\n",
              "      <th>Month</th>\n",
              "      <th>DailyVariationPercentage</th>\n",
              "      <th>Unnamed: 13</th>\n",
              "    </tr>\n",
              "  </thead>\n",
              "  <tbody>\n",
              "    <tr>\n",
              "      <th>0</th>\n",
              "      <td>NIFTY</td>\n",
              "      <td>20210101</td>\n",
              "      <td>09:16:00</td>\n",
              "      <td>13997.90</td>\n",
              "      <td>14020.85</td>\n",
              "      <td>13991.35</td>\n",
              "      <td>14013.15</td>\n",
              "      <td>14013.15</td>\n",
              "      <td>14013.150000</td>\n",
              "      <td>0.00</td>\n",
              "      <td>0.000000</td>\n",
              "      <td>Jan</td>\n",
              "      <td>0.210517</td>\n",
              "      <td>0.000088</td>\n",
              "    </tr>\n",
              "    <tr>\n",
              "      <th>1</th>\n",
              "      <td>NIFTY</td>\n",
              "      <td>20210101</td>\n",
              "      <td>09:17:00</td>\n",
              "      <td>14014.85</td>\n",
              "      <td>14018.55</td>\n",
              "      <td>14008.15</td>\n",
              "      <td>14009.05</td>\n",
              "      <td>14009.05</td>\n",
              "      <td>14009.050000</td>\n",
              "      <td>14013.15</td>\n",
              "      <td>0.000293</td>\n",
              "      <td>Jan</td>\n",
              "      <td>0.074238</td>\n",
              "      <td>NaN</td>\n",
              "    </tr>\n",
              "    <tr>\n",
              "      <th>2</th>\n",
              "      <td>NIFTY</td>\n",
              "      <td>20210101</td>\n",
              "      <td>09:18:00</td>\n",
              "      <td>14008.05</td>\n",
              "      <td>14013.10</td>\n",
              "      <td>14005.05</td>\n",
              "      <td>14012.70</td>\n",
              "      <td>14012.70</td>\n",
              "      <td>14012.700000</td>\n",
              "      <td>14009.05</td>\n",
              "      <td>-0.000260</td>\n",
              "      <td>Jan</td>\n",
              "      <td>0.057448</td>\n",
              "      <td>NaN</td>\n",
              "    </tr>\n",
              "    <tr>\n",
              "      <th>3</th>\n",
              "      <td>NIFTY</td>\n",
              "      <td>20210101</td>\n",
              "      <td>09:19:00</td>\n",
              "      <td>14013.65</td>\n",
              "      <td>14019.10</td>\n",
              "      <td>14013.65</td>\n",
              "      <td>14016.20</td>\n",
              "      <td>14016.20</td>\n",
              "      <td>14016.200000</td>\n",
              "      <td>14012.70</td>\n",
              "      <td>-0.000250</td>\n",
              "      <td>Jan</td>\n",
              "      <td>0.038884</td>\n",
              "      <td>NaN</td>\n",
              "    </tr>\n",
              "    <tr>\n",
              "      <th>4</th>\n",
              "      <td>NIFTY</td>\n",
              "      <td>20210101</td>\n",
              "      <td>09:20:00</td>\n",
              "      <td>14015.45</td>\n",
              "      <td>14017.80</td>\n",
              "      <td>14011.95</td>\n",
              "      <td>14015.45</td>\n",
              "      <td>14013.31</td>\n",
              "      <td>14013.310188</td>\n",
              "      <td>14016.20</td>\n",
              "      <td>0.000054</td>\n",
              "      <td>Jan</td>\n",
              "      <td>0.041740</td>\n",
              "      <td>NaN</td>\n",
              "    </tr>\n",
              "  </tbody>\n",
              "</table>\n",
              "</div>"
            ],
            "text/plain": [
              "    Type      Date      Time  ...  Month  DailyVariationPercentage  Unnamed: 13\n",
              "0  NIFTY  20210101  09:16:00  ...    Jan                  0.210517     0.000088\n",
              "1  NIFTY  20210101  09:17:00  ...    Jan                  0.074238          NaN\n",
              "2  NIFTY  20210101  09:18:00  ...    Jan                  0.057448          NaN\n",
              "3  NIFTY  20210101  09:19:00  ...    Jan                  0.038884          NaN\n",
              "4  NIFTY  20210101  09:20:00  ...    Jan                  0.041740          NaN\n",
              "\n",
              "[5 rows x 14 columns]"
            ]
          },
          "metadata": {
            "tags": []
          },
          "execution_count": 26
        }
      ]
    },
    {
      "cell_type": "code",
      "metadata": {
        "colab": {
          "base_uri": "https://localhost:8080/",
          "height": 285
        },
        "id": "A5AvI3pFL9no",
        "outputId": "68b51b82-fd57-4edf-90d9-5ec04c5fad8d"
      },
      "source": [
        "##prediction on close\n",
        "df1=df.reset_index()['close']\n",
        "df1.shape\n",
        "\n",
        "import matplotlib.pyplot as plt\n",
        "plt.plot(df1)\n"
      ],
      "execution_count": 27,
      "outputs": [
        {
          "output_type": "execute_result",
          "data": {
            "text/plain": [
              "[<matplotlib.lines.Line2D at 0x7ff0d8e60c10>]"
            ]
          },
          "metadata": {
            "tags": []
          },
          "execution_count": 27
        },
        {
          "output_type": "display_data",
          "data": {
            "image/png": "[encoded data removed]",
            "text/plain": [
              "<Figure size 432x288 with 1 Axes>"
            ]
          },
          "metadata": {
            "tags": [],
            "needs_background": "light"
          }
        }
      ]
    },
    {
      "cell_type": "code",
      "metadata": {
        "id": "vQboF9w2L9np"
      },
      "source": [
        "import numpy as np\n",
        "from sklearn.preprocessing import MinMaxScaler\n",
        "scaler=MinMaxScaler(feature_range=(0,1))\n",
        "df1=scaler.fit_transform(np.array(df1).reshape(-1,1))\n",
        "\n",
        "df1.shape\n",
        "\n",
        "##Spliting train test split\n",
        "training_size=int(len(df1)*0.65)\n",
        "test_size=len(df1)-training_size\n",
        "train_data,test_data=df1[0:training_size,:],df1[training_size:len(df1),:1]\n"
      ],
      "execution_count": 28,
      "outputs": []
    },
    {
      "cell_type": "code",
      "metadata": {
        "colab": {
          "base_uri": "https://localhost:8080/"
        },
        "id": "gr8guAkXL9nq",
        "outputId": "fd6b82f7-604f-4aca-a17e-eca42202dc91"
      },
      "source": [
        "##convert an array of values into a dataset matrix\n",
        "import numpy\n",
        "def create_dataset(dataset,time_step=1):\n",
        "\tdataX,dataY=[],[]\n",
        "\tfor i in range(len(dataset)-time_step-1):\n",
        "\t\ta=dataset[i:(i+time_step),0]\n",
        "\t\tdataX.append(a)\n",
        "\t\tdataY.append(dataset[i+time_step,0])\n",
        "\treturn numpy.array(dataX),numpy.array(dataY)\n",
        "\n",
        "##reshape into X=t,t+1,t+2,t+3 and t+4\n",
        "time_step=100\n",
        "X_train,y_train=create_dataset(train_data,time_step)\n",
        "X_test,y_test=create_dataset(test_data,time_step)\n",
        " \n",
        "\n",
        "#reshape input to be [samples,time steps,features] which is required for LSTM\n",
        "X_train=X_train.reshape(X_train.shape[0],X_train.shape[1],1)\n",
        "X_test=X_test.reshape(X_test.shape[0],X_test.shape[1],1)\n",
        "\n",
        "##create the LSTM model\n",
        "from tensorflow.keras.models import Sequential\n",
        "from tensorflow.keras.layers import Dense\n",
        "from tensorflow.keras.layers import LSTM\n",
        "\n",
        "model=Sequential()\n",
        "model.add(LSTM(50,return_sequences=True,input_shape=(100,1)))\n",
        "model.add(LSTM(50,return_sequences=True))\n",
        "model.add(LSTM(50))\n",
        "model.add(Dense(1))\n",
        "model.compile(loss='mean_squared_error',optimizer='adam')\n",
        "\n",
        "model.summary()\n",
        "\n",
        "model.fit(X_train,y_train,validation_data=(X_test,y_test),epochs=100,batch_size=64,verbose=1)\n"
      ],
      "execution_count": 29,
      "outputs": [
        {
          "output_type": "stream",
          "text": [
            "Model: \"sequential_3\"\n",
            "_________________________________________________________________\n",
            "Layer (type)                 Output Shape              Param #   \n",
            "=================================================================\n",
            "lstm_9 (LSTM)                (None, 100, 50)           10400     \n",
            "_________________________________________________________________\n",
            "lstm_10 (LSTM)               (None, 100, 50)           20200     \n",
            "_________________________________________________________________\n",
            "lstm_11 (LSTM)               (None, 50)                20200     \n",
            "_________________________________________________________________\n",
            "dense_3 (Dense)              (None, 1)                 51        \n",
            "=================================================================\n",
            "Total params: 50,851\n",
            "Trainable params: 50,851\n",
            "Non-trainable params: 0\n",
            "_________________________________________________________________\n",
            "Epoch 1/100\n",
            "230/230 [==============================] - 23s 84ms/step - loss: 0.0089 - val_loss: 2.2771e-04\n",
            "Epoch 2/100\n",
            "230/230 [==============================] - 18s 80ms/step - loss: 2.0547e-04 - val_loss: 2.0379e-04\n",
            "Epoch 3/100\n",
            "230/230 [==============================] - 18s 80ms/step - loss: 1.9083e-04 - val_loss: 1.8951e-04\n",
            "Epoch 4/100\n",
            "230/230 [==============================] - 18s 80ms/step - loss: 1.7674e-04 - val_loss: 2.4959e-04\n",
            "Epoch 5/100\n",
            "230/230 [==============================] - 18s 79ms/step - loss: 1.7819e-04 - val_loss: 1.7991e-04\n",
            "Epoch 6/100\n",
            "230/230 [==============================] - 18s 80ms/step - loss: 1.7239e-04 - val_loss: 1.5976e-04\n",
            "Epoch 7/100\n",
            "230/230 [==============================] - 18s 80ms/step - loss: 1.5796e-04 - val_loss: 5.7086e-04\n",
            "Epoch 8/100\n",
            "230/230 [==============================] - 18s 80ms/step - loss: 1.7305e-04 - val_loss: 1.9795e-04\n",
            "Epoch 9/100\n",
            "230/230 [==============================] - 18s 79ms/step - loss: 1.4656e-04 - val_loss: 1.3139e-04\n",
            "Epoch 10/100\n",
            "230/230 [==============================] - 18s 80ms/step - loss: 1.3153e-04 - val_loss: 1.7636e-04\n",
            "Epoch 11/100\n",
            "230/230 [==============================] - 18s 79ms/step - loss: 1.2702e-04 - val_loss: 1.0908e-04\n",
            "Epoch 12/100\n",
            "230/230 [==============================] - 18s 80ms/step - loss: 1.1835e-04 - val_loss: 1.2434e-04\n",
            "Epoch 13/100\n",
            "230/230 [==============================] - 18s 80ms/step - loss: 1.0795e-04 - val_loss: 3.8665e-04\n",
            "Epoch 14/100\n",
            "230/230 [==============================] - 18s 80ms/step - loss: 1.3097e-04 - val_loss: 1.4415e-04\n",
            "Epoch 15/100\n",
            "230/230 [==============================] - 18s 80ms/step - loss: 1.0084e-04 - val_loss: 7.7675e-05\n",
            "Epoch 16/100\n",
            "230/230 [==============================] - 18s 80ms/step - loss: 9.3588e-05 - val_loss: 7.3459e-05\n",
            "Epoch 17/100\n",
            "230/230 [==============================] - 18s 79ms/step - loss: 8.4423e-05 - val_loss: 8.1464e-05\n",
            "Epoch 18/100\n",
            "230/230 [==============================] - 18s 79ms/step - loss: 6.8635e-05 - val_loss: 1.3699e-04\n",
            "Epoch 19/100\n",
            "230/230 [==============================] - 18s 79ms/step - loss: 7.0816e-05 - val_loss: 1.1785e-04\n",
            "Epoch 20/100\n",
            "230/230 [==============================] - 18s 79ms/step - loss: 6.1893e-05 - val_loss: 6.7115e-05\n",
            "Epoch 21/100\n",
            "230/230 [==============================] - 18s 80ms/step - loss: 6.9068e-05 - val_loss: 5.1372e-05\n",
            "Epoch 22/100\n",
            "230/230 [==============================] - 18s 79ms/step - loss: 5.8136e-05 - val_loss: 8.3861e-05\n",
            "Epoch 23/100\n",
            "230/230 [==============================] - 19s 81ms/step - loss: 5.8004e-05 - val_loss: 1.5678e-04\n",
            "Epoch 24/100\n",
            "230/230 [==============================] - 18s 80ms/step - loss: 5.6723e-05 - val_loss: 4.2023e-05\n",
            "Epoch 25/100\n",
            "230/230 [==============================] - 18s 80ms/step - loss: 4.4546e-05 - val_loss: 4.2285e-05\n",
            "Epoch 26/100\n",
            "230/230 [==============================] - 18s 80ms/step - loss: 5.4016e-05 - val_loss: 4.2141e-05\n",
            "Epoch 27/100\n",
            "230/230 [==============================] - 19s 81ms/step - loss: 4.8479e-05 - val_loss: 3.5590e-05\n",
            "Epoch 28/100\n",
            "230/230 [==============================] - 19s 81ms/step - loss: 4.3002e-05 - val_loss: 1.4248e-04\n",
            "Epoch 29/100\n",
            "230/230 [==============================] - 18s 80ms/step - loss: 4.2638e-05 - val_loss: 3.7362e-05\n",
            "Epoch 30/100\n",
            "230/230 [==============================] - 18s 80ms/step - loss: 4.4067e-05 - val_loss: 4.6681e-05\n",
            "Epoch 31/100\n",
            "230/230 [==============================] - 18s 80ms/step - loss: 4.2502e-05 - val_loss: 3.2003e-05\n",
            "Epoch 32/100\n",
            "230/230 [==============================] - 18s 80ms/step - loss: 4.3679e-05 - val_loss: 1.6038e-04\n",
            "Epoch 33/100\n",
            "230/230 [==============================] - 18s 80ms/step - loss: 4.4044e-05 - val_loss: 3.1225e-05\n",
            "Epoch 34/100\n",
            "230/230 [==============================] - 19s 81ms/step - loss: 4.2201e-05 - val_loss: 3.0517e-05\n",
            "Epoch 35/100\n",
            "230/230 [==============================] - 19s 81ms/step - loss: 3.4612e-05 - val_loss: 2.9907e-05\n",
            "Epoch 36/100\n",
            "230/230 [==============================] - 18s 80ms/step - loss: 3.4550e-05 - val_loss: 3.1078e-05\n",
            "Epoch 37/100\n",
            "230/230 [==============================] - 19s 81ms/step - loss: 4.1925e-05 - val_loss: 4.8624e-05\n",
            "Epoch 38/100\n",
            "230/230 [==============================] - 18s 80ms/step - loss: 3.3230e-05 - val_loss: 5.5437e-05\n",
            "Epoch 39/100\n",
            "230/230 [==============================] - 19s 81ms/step - loss: 3.6838e-05 - val_loss: 2.7439e-05\n",
            "Epoch 40/100\n",
            "230/230 [==============================] - 18s 80ms/step - loss: 3.9582e-05 - val_loss: 2.8142e-05\n",
            "Epoch 41/100\n",
            "230/230 [==============================] - 18s 79ms/step - loss: 3.3389e-05 - val_loss: 1.1997e-04\n",
            "Epoch 42/100\n",
            "230/230 [==============================] - 18s 80ms/step - loss: 3.5931e-05 - val_loss: 5.5568e-05\n",
            "Epoch 43/100\n",
            "230/230 [==============================] - 18s 80ms/step - loss: 3.2579e-05 - val_loss: 3.2168e-05\n",
            "Epoch 44/100\n",
            "230/230 [==============================] - 18s 80ms/step - loss: 3.7814e-05 - val_loss: 4.2960e-05\n",
            "Epoch 45/100\n",
            "230/230 [==============================] - 18s 80ms/step - loss: 3.1359e-05 - val_loss: 3.8874e-05\n",
            "Epoch 46/100\n",
            "230/230 [==============================] - 18s 80ms/step - loss: 3.5184e-05 - val_loss: 8.2433e-05\n",
            "Epoch 47/100\n",
            "230/230 [==============================] - 19s 81ms/step - loss: 3.5551e-05 - val_loss: 4.0612e-05\n",
            "Epoch 48/100\n",
            "230/230 [==============================] - 18s 80ms/step - loss: 2.9274e-05 - val_loss: 4.0742e-05\n",
            "Epoch 49/100\n",
            "230/230 [==============================] - 18s 80ms/step - loss: 3.2751e-05 - val_loss: 2.7769e-05\n",
            "Epoch 50/100\n",
            "230/230 [==============================] - 18s 80ms/step - loss: 3.5188e-05 - val_loss: 2.8072e-05\n",
            "Epoch 51/100\n",
            "230/230 [==============================] - 19s 81ms/step - loss: 3.1861e-05 - val_loss: 2.9597e-05\n",
            "Epoch 52/100\n",
            "230/230 [==============================] - 18s 80ms/step - loss: 3.2597e-05 - val_loss: 3.3814e-05\n",
            "Epoch 53/100\n",
            "230/230 [==============================] - 18s 80ms/step - loss: 2.9075e-05 - val_loss: 1.0425e-04\n",
            "Epoch 54/100\n",
            "230/230 [==============================] - 19s 81ms/step - loss: 2.8215e-05 - val_loss: 4.7775e-05\n",
            "Epoch 55/100\n",
            "230/230 [==============================] - 19s 81ms/step - loss: 3.1302e-05 - val_loss: 2.7755e-05\n",
            "Epoch 56/100\n",
            "230/230 [==============================] - 19s 81ms/step - loss: 3.0749e-05 - val_loss: 2.8455e-05\n",
            "Epoch 57/100\n",
            "230/230 [==============================] - 19s 81ms/step - loss: 3.3750e-05 - val_loss: 4.8406e-05\n",
            "Epoch 58/100\n",
            "230/230 [==============================] - 18s 80ms/step - loss: 3.0132e-05 - val_loss: 2.7739e-05\n",
            "Epoch 59/100\n",
            "230/230 [==============================] - 18s 80ms/step - loss: 3.3597e-05 - val_loss: 6.4497e-05\n",
            "Epoch 60/100\n",
            "230/230 [==============================] - 18s 80ms/step - loss: 2.8242e-05 - val_loss: 2.6649e-05\n",
            "Epoch 61/100\n",
            "230/230 [==============================] - 18s 80ms/step - loss: 3.2656e-05 - val_loss: 6.2074e-05\n",
            "Epoch 62/100\n",
            "230/230 [==============================] - 19s 81ms/step - loss: 4.1523e-05 - val_loss: 2.6187e-05\n",
            "Epoch 63/100\n",
            "230/230 [==============================] - 18s 80ms/step - loss: 2.5896e-05 - val_loss: 1.1515e-04\n",
            "Epoch 64/100\n",
            "230/230 [==============================] - 19s 81ms/step - loss: 2.7305e-05 - val_loss: 2.6378e-05\n",
            "Epoch 65/100\n",
            "230/230 [==============================] - 19s 81ms/step - loss: 3.2019e-05 - val_loss: 3.0008e-05\n",
            "Epoch 66/100\n",
            "230/230 [==============================] - 19s 81ms/step - loss: 2.7492e-05 - val_loss: 2.6468e-05\n",
            "Epoch 67/100\n",
            "230/230 [==============================] - 19s 81ms/step - loss: 2.8585e-05 - val_loss: 3.8248e-05\n",
            "Epoch 68/100\n",
            "230/230 [==============================] - 19s 81ms/step - loss: 2.9662e-05 - val_loss: 2.9850e-05\n",
            "Epoch 69/100\n",
            "230/230 [==============================] - 19s 81ms/step - loss: 2.7542e-05 - val_loss: 3.3254e-05\n",
            "Epoch 70/100\n",
            "230/230 [==============================] - 19s 81ms/step - loss: 2.8797e-05 - val_loss: 3.3569e-05\n",
            "Epoch 71/100\n",
            "230/230 [==============================] - 19s 81ms/step - loss: 3.2280e-05 - val_loss: 5.5368e-05\n",
            "Epoch 72/100\n",
            "230/230 [==============================] - 19s 81ms/step - loss: 2.8242e-05 - val_loss: 2.6052e-05\n",
            "Epoch 73/100\n",
            "230/230 [==============================] - 19s 81ms/step - loss: 2.8300e-05 - val_loss: 4.1296e-05\n",
            "Epoch 74/100\n",
            "230/230 [==============================] - 19s 81ms/step - loss: 3.0859e-05 - val_loss: 2.6699e-05\n",
            "Epoch 75/100\n",
            "230/230 [==============================] - 19s 81ms/step - loss: 2.8782e-05 - val_loss: 2.7874e-05\n",
            "Epoch 76/100\n",
            "230/230 [==============================] - 19s 81ms/step - loss: 2.6442e-05 - val_loss: 2.6153e-05\n",
            "Epoch 77/100\n",
            "230/230 [==============================] - 19s 81ms/step - loss: 2.9934e-05 - val_loss: 3.1631e-05\n",
            "Epoch 78/100\n",
            "230/230 [==============================] - 19s 81ms/step - loss: 2.9580e-05 - val_loss: 1.1332e-04\n",
            "Epoch 79/100\n",
            "230/230 [==============================] - 19s 81ms/step - loss: 2.9021e-05 - val_loss: 3.9852e-05\n",
            "Epoch 80/100\n",
            "230/230 [==============================] - 19s 82ms/step - loss: 2.8726e-05 - val_loss: 6.2856e-05\n",
            "Epoch 81/100\n",
            "230/230 [==============================] - 19s 81ms/step - loss: 3.3135e-05 - val_loss: 2.7829e-05\n",
            "Epoch 82/100\n",
            "230/230 [==============================] - 18s 80ms/step - loss: 2.9649e-05 - val_loss: 2.7589e-05\n",
            "Epoch 83/100\n",
            "230/230 [==============================] - 19s 81ms/step - loss: 2.9027e-05 - val_loss: 4.3484e-05\n",
            "Epoch 84/100\n",
            "230/230 [==============================] - 19s 81ms/step - loss: 2.8431e-05 - val_loss: 2.7201e-05\n",
            "Epoch 85/100\n",
            "230/230 [==============================] - 19s 81ms/step - loss: 2.9281e-05 - val_loss: 2.9210e-05\n",
            "Epoch 86/100\n",
            "230/230 [==============================] - 19s 82ms/step - loss: 2.6711e-05 - val_loss: 2.5936e-05\n",
            "Epoch 87/100\n",
            "230/230 [==============================] - 19s 82ms/step - loss: 2.7009e-05 - val_loss: 2.6174e-05\n",
            "Epoch 88/100\n",
            "230/230 [==============================] - 19s 81ms/step - loss: 3.1217e-05 - val_loss: 4.9417e-05\n",
            "Epoch 89/100\n",
            "230/230 [==============================] - 18s 80ms/step - loss: 2.6906e-05 - val_loss: 2.6154e-05\n",
            "Epoch 90/100\n",
            "230/230 [==============================] - 19s 81ms/step - loss: 2.9228e-05 - val_loss: 3.4216e-05\n",
            "Epoch 91/100\n",
            "230/230 [==============================] - 19s 81ms/step - loss: 2.7690e-05 - val_loss: 6.2375e-05\n",
            "Epoch 92/100\n",
            "230/230 [==============================] - 19s 81ms/step - loss: 2.8725e-05 - val_loss: 2.6548e-05\n",
            "Epoch 93/100\n",
            "230/230 [==============================] - 19s 81ms/step - loss: 2.8306e-05 - val_loss: 2.7626e-05\n",
            "Epoch 94/100\n",
            "230/230 [==============================] - 19s 82ms/step - loss: 2.9519e-05 - val_loss: 3.0811e-05\n",
            "Epoch 95/100\n",
            "230/230 [==============================] - 19s 81ms/step - loss: 2.8317e-05 - val_loss: 2.8362e-05\n",
            "Epoch 96/100\n",
            "230/230 [==============================] - 19s 81ms/step - loss: 2.7129e-05 - val_loss: 2.6423e-05\n",
            "Epoch 97/100\n",
            "230/230 [==============================] - 19s 82ms/step - loss: 2.8816e-05 - val_loss: 2.6193e-05\n",
            "Epoch 98/100\n",
            "230/230 [==============================] - 19s 82ms/step - loss: 2.6119e-05 - val_loss: 3.6103e-05\n",
            "Epoch 99/100\n",
            "230/230 [==============================] - 19s 83ms/step - loss: 3.0831e-05 - val_loss: 2.7709e-05\n",
            "Epoch 100/100\n",
            "230/230 [==============================] - 19s 82ms/step - loss: 2.4598e-05 - val_loss: 2.9470e-05\n"
          ],
          "name": "stdout"
        },
        {
          "output_type": "execute_result",
          "data": {
            "text/plain": [
              "<tensorflow.python.keras.callbacks.History at 0x7ff0dbbfb1d0>"
            ]
          },
          "metadata": {
            "tags": []
          },
          "execution_count": 29
        }
      ]
    },
    {
      "cell_type": "code",
      "metadata": {
        "id": "PzKsZ6iLL9nr"
      },
      "source": [
        "import tensorflow as tf\n",
        "\n",
        "tf.__version__\n",
        "\n",
        "##Lets Do the Prediction and check performance metrics\n",
        "train_predict=model.predict(X_train)\n",
        "test_predict=model.predict(X_test)\n",
        "\n",
        "##transform to orginal form\n",
        "train_predict=scaler.inverse_transform(train_predict)\n",
        "test_predict=scaler.inverse_transform(test_predict)"
      ],
      "execution_count": null,
      "outputs": []
    },
    {
      "cell_type": "code",
      "metadata": {
        "colab": {
          "base_uri": "https://localhost:8080/"
        },
        "id": "PQ3CWKbLL9nr",
        "outputId": "2006d146-8271-4c09-e38b-c63b46d7c09e"
      },
      "source": [
        "##calculate RMSE performance metrics\n",
        "import math\n",
        "from sklearn.metrics import mean_squared_error\n",
        "print(math.sqrt(mean_squared_error(y_train,train_predict)))\n",
        "print(math.sqrt(mean_squared_error(y_test,test_predict)))"
      ],
      "execution_count": 37,
      "outputs": [
        {
          "output_type": "stream",
          "text": [
            "14636.447010653514\n",
            "14840.413638772638\n"
          ],
          "name": "stdout"
        }
      ]
    },
    {
      "cell_type": "code",
      "metadata": {
        "colab": {
          "base_uri": "https://localhost:8080/",
          "height": 1000
        },
        "id": "v3loHVLML9ns",
        "outputId": "ebf527b5-639f-479f-c3cf-0736dc18eabf"
      },
      "source": [
        "##Plotting\n",
        "##shift train predictions for plotting\n",
        "look_back=100\n",
        "trainPredictPlot=numpy.empty_like(df1)\n",
        "trainPredictPlot[:,:]=np.nan\n",
        "trainPredictPlot[look_back:len(train_predict)+look_back,:]=train_predict\n",
        "\n",
        "##shift test predictions for plotting\n",
        "testPredictPlot =numpy.empty_like(df1)\n",
        "testPredictPlot[:,:]=numpy.nan\n",
        "testPredictPlot[len(train_predict)+(look_back*2)+1:len(df1)-1,:]=test_predict\n",
        "\n",
        "##plot baseline and predictions\n",
        "plt.figure(figsize=(20,10))\n",
        "plt.plot(scaler.inverse_transform(df1))\n",
        "plt.plot(trainPredictPlot)\n",
        "plt.plot(testPredictPlot)\n",
        "plt.show()"
      ],
      "execution_count": 32,
      "outputs": [
        {
          "output_type": "display_data",
          "data": {
            "image/png": "[encoded data removed]",
            "text/plain": [
              "<Figure size 1440x720 with 1 Axes>"
            ]
          },
          "metadata": {
            "tags": []
          }
        },
        {
          "output_type": "display_data",
          "data": {
            "image/png": "[encoded data removed]",
            "text/plain": [
              "<Figure size 1440x720 with 1 Axes>"
            ]
          },
          "metadata": {
            "tags": [],
            "needs_background": "light"
          }
        }
      ]
    }
  ]
}